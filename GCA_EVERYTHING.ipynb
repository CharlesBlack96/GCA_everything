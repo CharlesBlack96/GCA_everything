{
  "nbformat": 4,
  "nbformat_minor": 0,
  "metadata": {
    "colab": {
      "provenance": []
    },
    "kernelspec": {
      "name": "python3",
      "display_name": "Python 3"
    },
    "language_info": {
      "name": "python"
    }
  },
  "cells": [
    {
      "cell_type": "markdown",
      "source": [
        "1) read 3x - undertstand\n",
        "\n",
        "\n",
        "\n",
        "2) write down what problem needs me to do\n",
        "\n",
        "\n",
        "\n",
        "3) make and write down an lgorithm to solve\n",
        "\n",
        "\n",
        "\n",
        "4) translate to code \n",
        "\n",
        "\n",
        "\n",
        "5) debug\n"
      ],
      "metadata": {
        "id": "CClyJ4kK2iKU"
      }
    },
    {
      "cell_type": "markdown",
      "source": [
        "Compute the factorial of an integer n. This is commonly written as n!, which is read as \"n factorial\".\n",
        "\n",
        "You must use a loop to solve this problem. You cannot hard-code the answers.\n",
        "\n",
        "The factorial of a number is the product of every integer between 1 and n.\n",
        "\n",
        "Special case: the factorial of 0 is defined to be 1."
      ],
      "metadata": {
        "id": "Ns0yASQH2XNc"
      }
    },
    {
      "cell_type": "code",
      "source": [],
      "metadata": {
        "id": "4wI6m9_v2YWZ"
      },
      "execution_count": null,
      "outputs": []
    }
  ]
}