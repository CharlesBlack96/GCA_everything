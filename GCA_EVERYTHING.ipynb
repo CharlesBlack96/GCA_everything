{
  "nbformat": 4,
  "nbformat_minor": 0,
  "metadata": {
    "colab": {
      "provenance": [],
      "authorship_tag": "ABX9TyNqOvawQFwNpeTbq9WzYpvb",
      "include_colab_link": true
    },
    "kernelspec": {
      "name": "python3",
      "display_name": "Python 3"
    },
    "language_info": {
      "name": "python"
    }
  },
  "cells": [
    {
      "cell_type": "markdown",
      "metadata": {
        "id": "view-in-github",
        "colab_type": "text"
      },
      "source": [
        "<a href=\"https://colab.research.google.com/github/CharlesBlack96/GCA_everything/blob/main/GCA_EVERYTHING.ipynb\" target=\"_parent\"><img src=\"https://colab.research.google.com/assets/colab-badge.svg\" alt=\"Open In Colab\"/></a>"
      ]
    },
    {
      "cell_type": "markdown",
      "source": [
        "1) read 3x - undertstand\n",
        "\n",
        "\n",
        "\n",
        "2) write down what problem needs me to do\n",
        "\n",
        "\n",
        "\n",
        "3) make and write down an lgorithm to solve\n",
        "\n",
        "\n",
        "\n",
        "4) translate to code \n",
        "\n",
        "\n",
        "\n",
        "5) debug\n"
      ],
      "metadata": {
        "id": "CClyJ4kK2iKU"
      }
    },
    {
      "cell_type": "markdown",
      "source": [
        "Compute the factorial of an integer n. This is commonly written as n!, which is read as \"n factorial\".\n",
        "\n",
        "You must use a loop to solve this problem. You cannot hard-code the answers.\n",
        "\n",
        "The factorial of a number is the product of every integer between 1 and n.\n",
        "\n",
        "Special case: the factorial of 0 is defined to be 1."
      ],
      "metadata": {
        "id": "Ns0yASQH2XNc"
      }
    },
    {
      "cell_type": "code",
      "source": [
        "#use a loop to find the factorial of integer n. n! is the factorial \n",
        "#there is a special case where the factorial of 0 is 1\n",
        "#write a function that breaks up a number into all the numbers used to count up to it including the number itsself\n",
        "#then put these numbers into a list or dictionary and loop through them and multiply the first to the second then the second to the third and so on\n",
        "#ex) 5 ......  1,2,3,4,5....... 1*2*3*4*5= 120...so input 5 and output is 120\n",
        "#how do i do this.. a for loop has less time complexity than using dictionaries\n"
      ],
      "metadata": {
        "id": "4wI6m9_v2YWZ"
      },
      "execution_count": null,
      "outputs": []
    },
    {
      "cell_type": "code",
      "source": [
        "def solution(n):\n",
        "  if n < 0:\n",
        "    return 'undefined'\n",
        "  elif n == 0:\n",
        "    return 1\n",
        "  else: \n",
        "    result = 1\n",
        "    for i in range(1, n+1):\n",
        "      result *= i\n",
        "    return result\n"
      ],
      "metadata": {
        "id": "JZh_Ra9CgkAG"
      },
      "execution_count": 11,
      "outputs": []
    },
    {
      "cell_type": "code",
      "source": [
        "#we use n+1 as the endpoint in the range because the range function has an EXCLUSIVE UPPER BOUND"
      ],
      "metadata": {
        "id": "nCH9JSrmikP5"
      },
      "execution_count": null,
      "outputs": []
    },
    {
      "cell_type": "code",
      "source": [
        "solution(5)"
      ],
      "metadata": {
        "colab": {
          "base_uri": "https://localhost:8080/"
        },
        "id": "dYRyXUgYhhF-",
        "outputId": "9bac081b-3869-4262-eb74-aa3e1376995a"
      },
      "execution_count": 12,
      "outputs": [
        {
          "output_type": "execute_result",
          "data": {
            "text/plain": [
              "120"
            ]
          },
          "metadata": {},
          "execution_count": 12
        }
      ]
    },
    {
      "cell_type": "code",
      "source": [
        "solution(6)"
      ],
      "metadata": {
        "colab": {
          "base_uri": "https://localhost:8080/"
        },
        "id": "VNpXlFKUh7eC",
        "outputId": "da13c2af-52c6-4c76-b3ac-6953a8acf9d2"
      },
      "execution_count": 13,
      "outputs": [
        {
          "output_type": "execute_result",
          "data": {
            "text/plain": [
              "720"
            ]
          },
          "metadata": {},
          "execution_count": 13
        }
      ]
    },
    {
      "cell_type": "code",
      "source": [
        "#========================================================================================================================="
      ],
      "metadata": {
        "id": "Xe3MYXQph_Cj"
      },
      "execution_count": null,
      "outputs": []
    },
    {
      "cell_type": "markdown",
      "source": [
        "Compute the product of all numbers from a to b, inclusive."
      ],
      "metadata": {
        "id": "rAjYrSbblKmF"
      }
    },
    {
      "cell_type": "code",
      "source": [
        "#find product of all numbers from a to b inclusive\n",
        "#create a function with a loop, have the range start with a and end with b+1\n",
        "#the result should be declared at 1 but the function should return result * i (or each iteration in the length of the for loop)\n",
        "\n",
        "#constraints = -12 <= a < b <= 12"
      ],
      "metadata": {
        "id": "23TbNBPclQC-"
      },
      "execution_count": null,
      "outputs": []
    },
    {
      "cell_type": "code",
      "source": [
        "def solution(a,b):\n",
        "  if a > b:\n",
        "    return 'undefined'\n",
        "  elif a < -12 and b < -12:\n",
        "    return 'undefined'\n",
        "  elif a > 12 or b > 12:\n",
        "    return 'undefined'\n",
        "  else:\n",
        "    result = 1 # to ensure correct answers given for any input and that the result doesnt return 0 everytime\n",
        "    for i in range(a, b+1):\n",
        "      result = result * i\n",
        "    return result\n",
        "\n",
        "    "
      ],
      "metadata": {
        "id": "Gq8ye-A4l2yj"
      },
      "execution_count": 25,
      "outputs": []
    },
    {
      "cell_type": "code",
      "source": [
        "#i wanted to initialize result as a but instead i should do 1 because \n",
        "#1) the product of any number and 1 is itsself\n",
        "#2) accounting for the fact that if a is 0 the answer would be 0 \n",
        "#3) 1 ensures that the function always gives correct reult for any input if a and b\n"
      ],
      "metadata": {
        "id": "9xLDDSdEopNd"
      },
      "execution_count": 24,
      "outputs": []
    },
    {
      "cell_type": "code",
      "source": [
        "solution(2,8)"
      ],
      "metadata": {
        "colab": {
          "base_uri": "https://localhost:8080/"
        },
        "id": "ZydWf-8Em6TU",
        "outputId": "884d8f01-3123-42c7-9a18-af6738786649"
      },
      "execution_count": 26,
      "outputs": [
        {
          "output_type": "execute_result",
          "data": {
            "text/plain": [
              "40320"
            ]
          },
          "metadata": {},
          "execution_count": 26
        }
      ]
    },
    {
      "cell_type": "code",
      "source": [
        "solution(6,10)"
      ],
      "metadata": {
        "colab": {
          "base_uri": "https://localhost:8080/"
        },
        "id": "CV1Rjdlnm-aF",
        "outputId": "b8e3279b-1c3d-4f8e-ca3f-b9377cd04c4f"
      },
      "execution_count": 27,
      "outputs": [
        {
          "output_type": "execute_result",
          "data": {
            "text/plain": [
              "30240"
            ]
          },
          "metadata": {},
          "execution_count": 27
        }
      ]
    },
    {
      "cell_type": "code",
      "source": [
        "solution(2,17)"
      ],
      "metadata": {
        "colab": {
          "base_uri": "https://localhost:8080/",
          "height": 35
        },
        "id": "0GjUaqjzm-U5",
        "outputId": "5d70f813-47c5-4e10-8967-8e7006f7639b"
      },
      "execution_count": 28,
      "outputs": [
        {
          "output_type": "execute_result",
          "data": {
            "text/plain": [
              "'undefined'"
            ],
            "application/vnd.google.colaboratory.intrinsic+json": {
              "type": "string"
            }
          },
          "metadata": {},
          "execution_count": 28
        }
      ]
    },
    {
      "cell_type": "code",
      "source": [
        "#========================================================================================================================="
      ],
      "metadata": {
        "id": "a1qNqbgine9D"
      },
      "execution_count": null,
      "outputs": []
    },
    {
      "cell_type": "markdown",
      "source": [
        "Return the length of a string.\n",
        "\n",
        "JavaScript: you can get the length with s.length.\n",
        "Python: you can get the length with len(s).\n",
        "Java: you can get the length with s.length().\n"
      ],
      "metadata": {
        "id": "iBu1bHWKqX0j"
      }
    },
    {
      "cell_type": "code",
      "source": [
        "#return the length of a string\n",
        "#create a function that initializes result as 1 and then loops through a string and for each letter or i we will add 1 to result up until\n",
        "# the length of the string\n",
        "#after looping we will return result\n"
      ],
      "metadata": {
        "id": "b0WYpMUiqdsY"
      },
      "execution_count": null,
      "outputs": []
    },
    {
      "cell_type": "code",
      "source": [
        "def solution(s):\n",
        "  result = 1\n",
        "  for i in range(1, len(s)):\n",
        "    result = result + 1\n",
        "  return result"
      ],
      "metadata": {
        "id": "RPXWWiLMrANS"
      },
      "execution_count": 33,
      "outputs": []
    },
    {
      "cell_type": "code",
      "source": [
        "#if i read the prompt 3 times and wrote it down and my plan i might not have resulted to the habit of a for loop....overthinking\n",
        "#the answer was given to me in the prompt!!!!!\n",
        "#dont skkip steps 1 and 2 in problem solving"
      ],
      "metadata": {
        "id": "2N-bjOgcsSEu"
      },
      "execution_count": 42,
      "outputs": []
    },
    {
      "cell_type": "code",
      "source": [
        "def solution(s):\n",
        "  return len(s)"
      ],
      "metadata": {
        "id": "pBzzLgVisJFG"
      },
      "execution_count": 37,
      "outputs": []
    },
    {
      "cell_type": "code",
      "source": [
        "solution('123456789')\n"
      ],
      "metadata": {
        "colab": {
          "base_uri": "https://localhost:8080/"
        },
        "id": "-TzXmnCHrY6d",
        "outputId": "28b24aed-dd2f-4e87-8a43-fd53c514b5a7"
      },
      "execution_count": 38,
      "outputs": [
        {
          "output_type": "execute_result",
          "data": {
            "text/plain": [
              "9"
            ]
          },
          "metadata": {},
          "execution_count": 38
        }
      ]
    },
    {
      "cell_type": "code",
      "source": [
        "solution('123')"
      ],
      "metadata": {
        "colab": {
          "base_uri": "https://localhost:8080/"
        },
        "id": "HcCXt91irkWx",
        "outputId": "37c23276-9003-4bb3-a535-950ab2977a30"
      },
      "execution_count": 39,
      "outputs": [
        {
          "output_type": "execute_result",
          "data": {
            "text/plain": [
              "3"
            ]
          },
          "metadata": {},
          "execution_count": 39
        }
      ]
    },
    {
      "cell_type": "code",
      "source": [
        "solution('lfiqwebrclqkhwbrclbqwlkedcblwIDECB')"
      ],
      "metadata": {
        "colab": {
          "base_uri": "https://localhost:8080/"
        },
        "id": "2BX3NcDFrj_Q",
        "outputId": "c43154c9-dbec-4744-bd4f-8113055bc10c"
      },
      "execution_count": 40,
      "outputs": [
        {
          "output_type": "execute_result",
          "data": {
            "text/plain": [
              "34"
            ]
          },
          "metadata": {},
          "execution_count": 40
        }
      ]
    },
    {
      "cell_type": "code",
      "source": [
        "#========================================================================================================================="
      ],
      "metadata": {
        "id": "up3pFfSssIMr"
      },
      "execution_count": null,
      "outputs": []
    },
    {
      "cell_type": "markdown",
      "source": [
        "Return the character at index n in a string s.\n",
        "\n",
        "If the index is out of range of the length of the string, return the string \"none\". Otherwise, return the character at that index.\n",
        "\n",
        "Java hint: you can convert a character to a string with Character.toString()."
      ],
      "metadata": {
        "id": "2gIlBcBgsxPp"
      }
    }
  ]
}