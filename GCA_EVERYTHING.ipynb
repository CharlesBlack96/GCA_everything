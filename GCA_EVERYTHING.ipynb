{
  "nbformat": 4,
  "nbformat_minor": 0,
  "metadata": {
    "colab": {
      "provenance": [],
      "authorship_tag": "ABX9TyPFrRo1hRoDVklMZi8i7sNs",
      "include_colab_link": true
    },
    "kernelspec": {
      "name": "python3",
      "display_name": "Python 3"
    },
    "language_info": {
      "name": "python"
    }
  },
  "cells": [
    {
      "cell_type": "markdown",
      "metadata": {
        "id": "view-in-github",
        "colab_type": "text"
      },
      "source": [
        "<a href=\"https://colab.research.google.com/github/CharlesBlack96/GCA_everything/blob/main/GCA_EVERYTHING.ipynb\" target=\"_parent\"><img src=\"https://colab.research.google.com/assets/colab-badge.svg\" alt=\"Open In Colab\"/></a>"
      ]
    },
    {
      "cell_type": "markdown",
      "source": [
        "1) read 3x - undertstand\n",
        "\n",
        "\n",
        "\n",
        "2) write down what problem needs me to do\n",
        "\n",
        "\n",
        "\n",
        "3) make and write down an lgorithm to solve\n",
        "\n",
        "\n",
        "\n",
        "4) translate to code \n",
        "\n",
        "\n",
        "\n",
        "5) debug\n"
      ],
      "metadata": {
        "id": "CClyJ4kK2iKU"
      }
    },
    {
      "cell_type": "markdown",
      "source": [
        "Compute the factorial of an integer n. This is commonly written as n!, which is read as \"n factorial\".\n",
        "\n",
        "You must use a loop to solve this problem. You cannot hard-code the answers.\n",
        "\n",
        "The factorial of a number is the product of every integer between 1 and n.\n",
        "\n",
        "Special case: the factorial of 0 is defined to be 1."
      ],
      "metadata": {
        "id": "Ns0yASQH2XNc"
      }
    },
    {
      "cell_type": "code",
      "source": [
        "#use a loop to find the factorial of integer n. n! is the factorial \n",
        "#there is a special case where the factorial of 0 is 1\n",
        "#write a function that breaks up a number into all the numbers used to count up to it including the number itsself\n",
        "#then put these numbers into a list or dictionary and loop through them and multiply the first to the second then the second to the third and so on\n",
        "#ex) 5 ......  1,2,3,4,5....... 1*2*3*4*5= 120...so input 5 and output is 120\n",
        "#how do i do this.. a for loop has less time complexity than using dictionaries.. \n"
      ],
      "metadata": {
        "id": "4wI6m9_v2YWZ"
      },
      "execution_count": null,
      "outputs": []
    },
    {
      "cell_type": "code",
      "source": [
        "def solution(n):\n",
        "  if n < 0:\n",
        "    return 'undefined'\n",
        "  elif n == 0:\n",
        "    return 1\n",
        "  else: \n",
        "    result = 1\n",
        "    for i in range(1, n+1):\n",
        "      result *= i\n",
        "    return result \n"
      ],
      "metadata": {
        "id": "JZh_Ra9CgkAG"
      },
      "execution_count": null,
      "outputs": []
    },
    {
      "cell_type": "code",
      "source": [
        "#we use n+1 as the endpoint in the range because the range function has an EXCLUSIVE UPPER BOUND"
      ],
      "metadata": {
        "id": "nCH9JSrmikP5"
      },
      "execution_count": null,
      "outputs": []
    },
    {
      "cell_type": "code",
      "source": [
        "solution(5)"
      ],
      "metadata": {
        "colab": {
          "base_uri": "https://localhost:8080/"
        },
        "id": "dYRyXUgYhhF-",
        "outputId": "9bac081b-3869-4262-eb74-aa3e1376995a"
      },
      "execution_count": null,
      "outputs": [
        {
          "output_type": "execute_result",
          "data": {
            "text/plain": [
              "120"
            ]
          },
          "metadata": {},
          "execution_count": 12
        }
      ]
    },
    {
      "cell_type": "code",
      "source": [
        "solution(6)"
      ],
      "metadata": {
        "colab": {
          "base_uri": "https://localhost:8080/"
        },
        "id": "VNpXlFKUh7eC",
        "outputId": "da13c2af-52c6-4c76-b3ac-6953a8acf9d2"
      },
      "execution_count": null,
      "outputs": [
        {
          "output_type": "execute_result",
          "data": {
            "text/plain": [
              "720"
            ]
          },
          "metadata": {},
          "execution_count": 13
        }
      ]
    },
    {
      "cell_type": "code",
      "source": [
        "#========================================================================================================================="
      ],
      "metadata": {
        "id": "Xe3MYXQph_Cj"
      },
      "execution_count": null,
      "outputs": []
    },
    {
      "cell_type": "markdown",
      "source": [
        "Compute the product of all numbers from a to b, inclusive."
      ],
      "metadata": {
        "id": "rAjYrSbblKmF"
      }
    },
    {
      "cell_type": "code",
      "source": [
        "#find product of all numbers from a to b inclusive\n",
        "#create a function with a loop, have the range start with a and end with b+1\n",
        "#the result should be declared at 1 but the function should return result * i (or each iteration in the length of the for loop)\n",
        "\n",
        "#constraints = -12 <= a < b <= 12"
      ],
      "metadata": {
        "id": "23TbNBPclQC-"
      },
      "execution_count": null,
      "outputs": []
    },
    {
      "cell_type": "code",
      "source": [
        "def solution(a,b):\n",
        "  if a > b:\n",
        "    return 'undefined'\n",
        "  elif a < -12 and b < -12:\n",
        "    return 'undefined'\n",
        "  elif a > 12 or b > 12:\n",
        "    return 'undefined'\n",
        "  else:\n",
        "    result = 1 # to ensure correct answers given for any input and that the result doesnt return 0 everytime\n",
        "    for i in range(a, b+1):\n",
        "      result = result * i\n",
        "    return result\n",
        "\n",
        "    "
      ],
      "metadata": {
        "id": "Gq8ye-A4l2yj"
      },
      "execution_count": null,
      "outputs": []
    },
    {
      "cell_type": "code",
      "source": [
        "#i wanted to initialize result as a but instead i should do 1 because \n",
        "#1) the product of any number and 1 is itsself\n",
        "#2) accounting for the fact that if a is 0 the answer would be 0 \n",
        "#3) 1 ensures that the function always gives correct reult for any input if a and b\n"
      ],
      "metadata": {
        "id": "9xLDDSdEopNd"
      },
      "execution_count": null,
      "outputs": []
    },
    {
      "cell_type": "code",
      "source": [
        "solution(2,8)"
      ],
      "metadata": {
        "colab": {
          "base_uri": "https://localhost:8080/"
        },
        "id": "ZydWf-8Em6TU",
        "outputId": "884d8f01-3123-42c7-9a18-af6738786649"
      },
      "execution_count": null,
      "outputs": [
        {
          "output_type": "execute_result",
          "data": {
            "text/plain": [
              "40320"
            ]
          },
          "metadata": {},
          "execution_count": 26
        }
      ]
    },
    {
      "cell_type": "code",
      "source": [
        "solution(6,10)"
      ],
      "metadata": {
        "colab": {
          "base_uri": "https://localhost:8080/"
        },
        "id": "CV1Rjdlnm-aF",
        "outputId": "b8e3279b-1c3d-4f8e-ca3f-b9377cd04c4f"
      },
      "execution_count": null,
      "outputs": [
        {
          "output_type": "execute_result",
          "data": {
            "text/plain": [
              "30240"
            ]
          },
          "metadata": {},
          "execution_count": 27
        }
      ]
    },
    {
      "cell_type": "code",
      "source": [
        "solution(2,17)"
      ],
      "metadata": {
        "colab": {
          "base_uri": "https://localhost:8080/",
          "height": 36
        },
        "id": "0GjUaqjzm-U5",
        "outputId": "5d70f813-47c5-4e10-8967-8e7006f7639b"
      },
      "execution_count": null,
      "outputs": [
        {
          "output_type": "execute_result",
          "data": {
            "text/plain": [
              "'undefined'"
            ],
            "application/vnd.google.colaboratory.intrinsic+json": {
              "type": "string"
            }
          },
          "metadata": {},
          "execution_count": 28
        }
      ]
    },
    {
      "cell_type": "code",
      "source": [
        "#========================================================================================================================="
      ],
      "metadata": {
        "id": "a1qNqbgine9D"
      },
      "execution_count": null,
      "outputs": []
    },
    {
      "cell_type": "markdown",
      "source": [
        "Return the length of a string.\n",
        "\n",
        "JavaScript: you can get the length with s.length.\n",
        "Python: you can get the length with len(s).\n",
        "Java: you can get the length with s.length().\n"
      ],
      "metadata": {
        "id": "iBu1bHWKqX0j"
      }
    },
    {
      "cell_type": "code",
      "source": [
        "#return the length of a string\n",
        "#create a function that initializes result as 1 and then loops through a string and for each letter or i we will add 1 to result up until\n",
        "# the length of the string\n",
        "#after looping we will return result\n"
      ],
      "metadata": {
        "id": "b0WYpMUiqdsY"
      },
      "execution_count": null,
      "outputs": []
    },
    {
      "cell_type": "code",
      "source": [
        "def solution(s):\n",
        "  result = 1\n",
        "  for i in range(1, len(s)):\n",
        "    result = result + 1\n",
        "  return result z"
      ],
      "metadata": {
        "id": "RPXWWiLMrANS"
      },
      "execution_count": null,
      "outputs": []
    },
    {
      "cell_type": "code",
      "source": [
        "#if i read the prompt 3 times and wrote it down and my plan i might not have resulted to the habit of a for loop....overthinking\n",
        "#the answer was given to me in the prompt!!!!!\n",
        "#dont skkip steps 1 and 2 in problem solving"
      ],
      "metadata": {
        "id": "2N-bjOgcsSEu"
      },
      "execution_count": null,
      "outputs": []
    },
    {
      "cell_type": "code",
      "source": [
        "def solution(s):\n",
        "  return len(s)"
      ],
      "metadata": {
        "id": "pBzzLgVisJFG"
      },
      "execution_count": null,
      "outputs": []
    },
    {
      "cell_type": "code",
      "source": [
        "solution('123456789')\n"
      ],
      "metadata": {
        "colab": {
          "base_uri": "https://localhost:8080/"
        },
        "id": "-TzXmnCHrY6d",
        "outputId": "28b24aed-dd2f-4e87-8a43-fd53c514b5a7"
      },
      "execution_count": null,
      "outputs": [
        {
          "output_type": "execute_result",
          "data": {
            "text/plain": [
              "9"
            ]
          },
          "metadata": {},
          "execution_count": 38
        }
      ]
    },
    {
      "cell_type": "code",
      "source": [
        "solution('123')"
      ],
      "metadata": {
        "colab": {
          "base_uri": "https://localhost:8080/"
        },
        "id": "HcCXt91irkWx",
        "outputId": "37c23276-9003-4bb3-a535-950ab2977a30"
      },
      "execution_count": null,
      "outputs": [
        {
          "output_type": "execute_result",
          "data": {
            "text/plain": [
              "3"
            ]
          },
          "metadata": {},
          "execution_count": 39
        }
      ]
    },
    {
      "cell_type": "code",
      "source": [
        "solution('lfiqwebrclqkhwbrclbqwlkedcblwIDECB')"
      ],
      "metadata": {
        "colab": {
          "base_uri": "https://localhost:8080/"
        },
        "id": "2BX3NcDFrj_Q",
        "outputId": "c43154c9-dbec-4744-bd4f-8113055bc10c"
      },
      "execution_count": null,
      "outputs": [
        {
          "output_type": "execute_result",
          "data": {
            "text/plain": [
              "34"
            ]
          },
          "metadata": {},
          "execution_count": 40
        }
      ]
    },
    {
      "cell_type": "code",
      "source": [
        "#========================================================================================================================="
      ],
      "metadata": {
        "id": "up3pFfSssIMr"
      },
      "execution_count": null,
      "outputs": []
    },
    {
      "cell_type": "markdown",
      "source": [
        "Return the character at index n in a string s.\n",
        "\n",
        "If the index is out of range of the length of the string, return the string \"none\". Otherwise, return the character at that index.\n",
        "\n",
        "Java hint: you can convert a character to a string with Character.toString()."
      ],
      "metadata": {
        "id": "2gIlBcBgsxPp"
      }
    },
    {
      "cell_type": "code",
      "source": [
        "#read 3x\n",
        "#write in my own words\n",
        "#write down alorith to solve including details from prompt\n",
        "#translate t python\n",
        "#debug\n",
        "\n",
        "#return whatever character is at index n of a string\n",
        "#loop through a string until the given index and print out the value of the index\n",
        "#might need to turn value into a string using str() method\n",
        "#return none if the index is out of range\n",
        "def solution(s, n):\n",
        " if n < 0 or n >= len(s):\n",
        "   return 'none'\n",
        " else:\n",
        "    return s[n]\n",
        "\n"
      ],
      "metadata": {
        "id": "XWT1_Otas4Vb"
      },
      "execution_count": null,
      "outputs": []
    },
    {
      "cell_type": "code",
      "source": [
        "solution('kasjdfgalwhf', 2)"
      ],
      "metadata": {
        "colab": {
          "base_uri": "https://localhost:8080/",
          "height": 36
        },
        "id": "7kljQ7MH0xDe",
        "outputId": "3b89ff61-508e-441c-9a1b-c296b83e1cf9"
      },
      "execution_count": null,
      "outputs": [
        {
          "output_type": "execute_result",
          "data": {
            "text/plain": [
              "'s'"
            ],
            "application/vnd.google.colaboratory.intrinsic+json": {
              "type": "string"
            }
          },
          "metadata": {},
          "execution_count": 45
        }
      ]
    },
    {
      "cell_type": "code",
      "source": [
        "#========================================================================================================================="
      ],
      "metadata": {
        "id": "A__6wWlw1si1"
      },
      "execution_count": null,
      "outputs": []
    },
    {
      "cell_type": "markdown",
      "source": [
        "Return an uppercase version of the input string.\n",
        "\n",
        "Characters that are already uppercase remain uppercase.\n",
        "\n",
        "Characters that aren't letters are unchanged."
      ],
      "metadata": {
        "id": "MkVaKtIuZfLd"
      }
    },
    {
      "cell_type": "code",
      "source": [
        "#turn an entire string to uppercase...uppercase characters will stay uppercase and characters that are not letters dont change\n",
        "#create a function that takes in a string\n",
        "#it will take that string and use a built in method to change it to uppercase?\n",
        "#or it will loop through the string and change each letter to an uppercase \n",
        "#the function will have two if statements to account for the nonletters and alreadyuppercase characters\n",
        "\n",
        "def solution(s):\n",
        "  return str.upper(s)"
      ],
      "metadata": {
        "id": "FloFPePaZh-S"
      },
      "execution_count": null,
      "outputs": []
    },
    {
      "cell_type": "code",
      "source": [
        "solution('lahsdglHHHHHHH!!!!!!!javaklbjla')"
      ],
      "metadata": {
        "colab": {
          "base_uri": "https://localhost:8080/",
          "height": 36
        },
        "id": "cD0yFvuBcb1-",
        "outputId": "c23f5c2c-ccb7-42b6-ef47-53fe1ffa0eac"
      },
      "execution_count": null,
      "outputs": [
        {
          "output_type": "execute_result",
          "data": {
            "text/plain": [
              "'LAHSDGLHHHHHHH!!!!!!!JAVAKLBJLA'"
            ],
            "application/vnd.google.colaboratory.intrinsic+json": {
              "type": "string"
            }
          },
          "metadata": {},
          "execution_count": 2
        }
      ]
    },
    {
      "cell_type": "code",
      "source": [
        "#========================================================================================================================="
      ],
      "metadata": {
        "id": "sehce34hclqC"
      },
      "execution_count": null,
      "outputs": []
    },
    {
      "cell_type": "markdown",
      "source": [
        "Return true if a string is all lowercase.\n",
        "\n",
        "Java and Javascript: there's no built-in for this. We have to compare the string to a lowercase version of itself created with .toLowerCase().\n",
        "\n",
        "Python: you can use the built-in .islower() to determine this.\n",
        "\n",
        "One difference is that this technique on JavaScript will report punctuation as lowercase, but the Python version will not."
      ],
      "metadata": {
        "id": "ExMFCMhcdH-5"
      }
    },
    {
      "cell_type": "code",
      "source": [
        "#give an answer of true of false for if a string is all lowercase\n",
        "#compare the string to the lowercase version of itsself!\n",
        "#that should be it the function will return boolean by default"
      ],
      "metadata": {
        "id": "ycO-lveXdLcY"
      },
      "execution_count": null,
      "outputs": []
    },
    {
      "cell_type": "code",
      "source": [
        "def solution(s):\n",
        "  return s == str.lower(s)"
      ],
      "metadata": {
        "id": "cEFrWd_7gV-w"
      },
      "execution_count": null,
      "outputs": []
    },
    {
      "cell_type": "code",
      "source": [
        "solution('lisyagfflaisu')"
      ],
      "metadata": {
        "colab": {
          "base_uri": "https://localhost:8080/"
        },
        "id": "OACDFuAuglJC",
        "outputId": "1fdfa4cb-5c3b-41df-b207-c673c858d6ae"
      },
      "execution_count": null,
      "outputs": [
        {
          "output_type": "execute_result",
          "data": {
            "text/plain": [
              "True"
            ]
          },
          "metadata": {},
          "execution_count": 8
        }
      ]
    },
    {
      "cell_type": "code",
      "source": [
        "solution('liasduhHlaygl')"
      ],
      "metadata": {
        "colab": {
          "base_uri": "https://localhost:8080/"
        },
        "id": "OF5rziCZgpqZ",
        "outputId": "43f0aea4-b2b5-4a91-b4ea-7bd1d918d69e"
      },
      "execution_count": null,
      "outputs": [
        {
          "output_type": "execute_result",
          "data": {
            "text/plain": [
              "False"
            ]
          },
          "metadata": {},
          "execution_count": 9
        }
      ]
    },
    {
      "cell_type": "code",
      "source": [
        "solution('liasdscaw;ucqwhnp9a;owicnwqepipqw;oeuncaerc[poqn4455l')"
      ],
      "metadata": {
        "colab": {
          "base_uri": "https://localhost:8080/"
        },
        "id": "fGhhDEishBt7",
        "outputId": "51f3b631-d97d-4827-ada0-405ca9827fa8"
      },
      "execution_count": null,
      "outputs": [
        {
          "output_type": "execute_result",
          "data": {
            "text/plain": [
              "True"
            ]
          },
          "metadata": {},
          "execution_count": 10
        }
      ]
    },
    {
      "cell_type": "code",
      "source": [
        "#========================================================================================================================="
      ],
      "metadata": {
        "id": "UlnrlnMag3rm"
      },
      "execution_count": null,
      "outputs": []
    },
    {
      "cell_type": "markdown",
      "source": [
        "Count the number of occurrences of a letter in a string.\n",
        "\n",
        "Do not use any built-in count() style functions for this task."
      ],
      "metadata": {
        "id": "ExkU0pnWhUS-"
      }
    },
    {
      "cell_type": "code",
      "source": [
        "#dont use count function\n",
        "#return the number of occurences of each letter in a string\n",
        "#create a function that loops through a string and counts each letter\n",
        "#use a dictionary?...if then statements \n",
        "#or use a for loop..create a list called counts..."
      ],
      "metadata": {
        "id": "ZP2GpN-vhZmR"
      },
      "execution_count": null,
      "outputs": []
    },
    {
      "cell_type": "code",
      "source": [
        "def solution(s, letter):\n",
        "  letter_count = 0\n",
        "  for char in s:\n",
        "    if char == letter:\n",
        "      letter_count += 1\n",
        "  return letter_count "
      ],
      "metadata": {
        "id": "t9NQSqgyiMi1"
      },
      "execution_count": null,
      "outputs": []
    },
    {
      "cell_type": "code",
      "source": [
        "solution('ilagsdcliuqwherlcqherf7t  hd;qwjneldiqgwo8egcoqwbecl', \"h\")\n"
      ],
      "metadata": {
        "colab": {
          "base_uri": "https://localhost:8080/"
        },
        "id": "IQ9zozCxkjlS",
        "outputId": "87197551-451e-4117-d21f-59c057384bbe"
      },
      "execution_count": null,
      "outputs": [
        {
          "output_type": "execute_result",
          "data": {
            "text/plain": [
              "3"
            ]
          },
          "metadata": {},
          "execution_count": 22
        }
      ]
    },
    {
      "cell_type": "code",
      "source": [
        "solution('hhhhhhhhaiaiaiiaiaiaiayyyayyyahhhavsvvvvvvvvv', 's')"
      ],
      "metadata": {
        "colab": {
          "base_uri": "https://localhost:8080/"
        },
        "id": "EsNzGfSFkqTH",
        "outputId": "b53bc375-5381-4833-e7d2-d778fba553b1"
      },
      "execution_count": null,
      "outputs": [
        {
          "output_type": "execute_result",
          "data": {
            "text/plain": [
              "1"
            ]
          },
          "metadata": {},
          "execution_count": 24
        }
      ]
    },
    {
      "cell_type": "code",
      "source": [
        "#========================================================================================================================="
      ],
      "metadata": {
        "id": "ulVcQvE3lHxq"
      },
      "execution_count": null,
      "outputs": []
    },
    {
      "cell_type": "markdown",
      "source": [
        "Given a number, return the number of digits.\n",
        "\n",
        "Hint:\n",
        "\n",
        "JavaScript: you can convert a number to a string with the String() function.\n",
        "Python: you can convert a number to a string with the str() function.\n",
        "Java: you can convert a number to a string with the String.valueOf() function."
      ],
      "metadata": {
        "id": "_SK_Y-ZYnT_a"
      }
    },
    {
      "cell_type": "code",
      "source": [
        "#input: number output: number of digits in number\n",
        "#create a function that takes in anumber and \n",
        "#creates a count = 0\n",
        "#loops through the integer and for each digit adds 1 to the count\n",
        "#the count will be returned\n",
        "\n",
        "\n",
        "#int is not iterable....must turn int into a string\n"
      ],
      "metadata": {
        "id": "9wG7gUYonWsq"
      },
      "execution_count": null,
      "outputs": []
    },
    {
      "cell_type": "code",
      "source": [
        "def solution(n):\n",
        "  count = 0\n",
        "  for digit in str(n):\n",
        "    count = count +1\n",
        "  return count\n"
      ],
      "metadata": {
        "id": "Ex54JHy4nyyO"
      },
      "execution_count": null,
      "outputs": []
    },
    {
      "cell_type": "code",
      "source": [
        "solution(1217424127641221761285)"
      ],
      "metadata": {
        "colab": {
          "base_uri": "https://localhost:8080/"
        },
        "id": "RSy0xwsKoIxd",
        "outputId": "05ae1455-64ff-443c-f514-90801f57b1a8"
      },
      "execution_count": null,
      "outputs": [
        {
          "output_type": "execute_result",
          "data": {
            "text/plain": [
              "22"
            ]
          },
          "metadata": {},
          "execution_count": 30
        }
      ]
    },
    {
      "cell_type": "code",
      "source": [
        "#========================================================================================================================="
      ],
      "metadata": {
        "id": "MCq1xy3JoMki"
      },
      "execution_count": null,
      "outputs": []
    },
    {
      "cell_type": "markdown",
      "source": [
        "Return the index of the last character in a string. If the string is empty, return -1.\n",
        "\n"
      ],
      "metadata": {
        "id": "PUD3Ahcsqbeu"
      }
    },
    {
      "cell_type": "code",
      "source": [
        "#return the index of the last character in a string\n",
        "#if string is emtpty return -1\n"
      ],
      "metadata": {
        "id": "A_680cz5qfYb"
      },
      "execution_count": null,
      "outputs": []
    },
    {
      "cell_type": "code",
      "source": [
        "def solution(s):\n",
        "  count = -1\n",
        "  for letter in s:\n",
        "    if s == '':\n",
        "      return -1\n",
        "    else:\n",
        "      count = count + 1\n",
        "  return count"
      ],
      "metadata": {
        "id": "wr-VA8sKqyp8"
      },
      "execution_count": null,
      "outputs": []
    },
    {
      "cell_type": "code",
      "source": [
        "def last_char_index(s):\n",
        "    if s == \"\":\n",
        "        return -1\n",
        "    else:\n",
        "        return len(s) - 1"
      ],
      "metadata": {
        "id": "09CFk-iorw5Z"
      },
      "execution_count": null,
      "outputs": []
    },
    {
      "cell_type": "code",
      "source": [
        "solution('jhsdafglkafhlsdk')"
      ],
      "metadata": {
        "colab": {
          "base_uri": "https://localhost:8080/"
        },
        "id": "o0jrcSeirK5w",
        "outputId": "5de25805-5f60-49ab-e278-ead59d5dfa5c"
      },
      "execution_count": null,
      "outputs": [
        {
          "output_type": "execute_result",
          "data": {
            "text/plain": [
              "15"
            ]
          },
          "metadata": {},
          "execution_count": 43
        }
      ]
    },
    {
      "cell_type": "code",
      "source": [
        "#========================================================================================================================="
      ],
      "metadata": {
        "id": "-5uJv5rqrl4D"
      },
      "execution_count": null,
      "outputs": []
    },
    {
      "cell_type": "markdown",
      "source": [
        "Return the last character in a string. If the string is empty, return \"none\"."
      ],
      "metadata": {
        "id": "6jngon1CthTm"
      }
    },
    {
      "cell_type": "code",
      "source": [
        "#return the last character of a string\n",
        "#if the sting is empty return none\n",
        "def solution(s):\n",
        "  if s == '':\n",
        "    return 'none'\n",
        "  else:\n",
        "    return s[-1]"
      ],
      "metadata": {
        "id": "SvCg9GU1tjyl"
      },
      "execution_count": null,
      "outputs": []
    },
    {
      "cell_type": "code",
      "source": [
        "solution('charlie')"
      ],
      "metadata": {
        "colab": {
          "base_uri": "https://localhost:8080/",
          "height": 36
        },
        "id": "amPwB8Q58G-0",
        "outputId": "a68ca00e-426d-4613-9953-9169227db13a"
      },
      "execution_count": null,
      "outputs": [
        {
          "output_type": "execute_result",
          "data": {
            "text/plain": [
              "'e'"
            ],
            "application/vnd.google.colaboratory.intrinsic+json": {
              "type": "string"
            }
          },
          "metadata": {},
          "execution_count": 45
        }
      ]
    },
    {
      "cell_type": "code",
      "source": [
        "#========================================================================================================================="
      ],
      "metadata": {
        "id": "-mGWUvks8PTs"
      },
      "execution_count": null,
      "outputs": []
    },
    {
      "cell_type": "markdown",
      "source": [
        "Return true if the first and second characters in the string are equal."
      ],
      "metadata": {
        "id": "A5m01U3Y8cRV"
      }
    },
    {
      "cell_type": "code",
      "source": [
        "#answer with true or false \n",
        "#for the condition: if the 1st and 2nd index of the string are the same"
      ],
      "metadata": {
        "id": "V2lcR0N78e29"
      },
      "execution_count": null,
      "outputs": []
    },
    {
      "cell_type": "code",
      "source": [
        "def solution(s):\n",
        "  return s[0] == s[1]"
      ],
      "metadata": {
        "id": "lUAabzDS8utX"
      },
      "execution_count": null,
      "outputs": []
    },
    {
      "cell_type": "code",
      "source": [
        "solution('ssliusdq')"
      ],
      "metadata": {
        "colab": {
          "base_uri": "https://localhost:8080/"
        },
        "id": "2xYdNoHp81t3",
        "outputId": "7d8cd37c-2bed-4535-adb0-2cef04a21791"
      },
      "execution_count": null,
      "outputs": [
        {
          "output_type": "execute_result",
          "data": {
            "text/plain": [
              "True"
            ]
          },
          "metadata": {},
          "execution_count": 48
        }
      ]
    },
    {
      "cell_type": "code",
      "source": [
        "solution('sfliusdq')"
      ],
      "metadata": {
        "colab": {
          "base_uri": "https://localhost:8080/"
        },
        "id": "Wv_mJl8q846z",
        "outputId": "2c37de0b-376c-4abd-f47e-06f26741a2c4"
      },
      "execution_count": null,
      "outputs": [
        {
          "output_type": "execute_result",
          "data": {
            "text/plain": [
              "False"
            ]
          },
          "metadata": {},
          "execution_count": 49
        }
      ]
    },
    {
      "cell_type": "code",
      "source": [
        "#========================================================================================================================="
      ],
      "metadata": {
        "id": "pHVx-Fyu87FN"
      },
      "execution_count": null,
      "outputs": []
    },
    {
      "cell_type": "markdown",
      "source": [
        "Return true if the first and last characters in the string are equal.\n",
        "\n"
      ],
      "metadata": {
        "id": "zQhDyLZO8-29"
      }
    },
    {
      "cell_type": "code",
      "source": [
        "#true of false answer\n",
        "#condition: the 1st and last index of a string are equal"
      ],
      "metadata": {
        "id": "qOhQRPy89JMP"
      },
      "execution_count": null,
      "outputs": []
    },
    {
      "cell_type": "code",
      "source": [
        "def solution(s):\n",
        "  return s[0] == s[-1]"
      ],
      "metadata": {
        "id": "jDgLO_MV9Tkc"
      },
      "execution_count": null,
      "outputs": []
    },
    {
      "cell_type": "code",
      "source": [
        "solution('bob')"
      ],
      "metadata": {
        "colab": {
          "base_uri": "https://localhost:8080/"
        },
        "id": "97cPG5sp9ZGz",
        "outputId": "52e196e3-419b-4ca4-9940-b4ac9e8d9bb9"
      },
      "execution_count": null,
      "outputs": [
        {
          "output_type": "execute_result",
          "data": {
            "text/plain": [
              "True"
            ]
          },
          "metadata": {},
          "execution_count": 52
        }
      ]
    },
    {
      "cell_type": "code",
      "source": [
        "solution('sdkalhb')"
      ],
      "metadata": {
        "colab": {
          "base_uri": "https://localhost:8080/"
        },
        "id": "dTca65J79b9J",
        "outputId": "6102f308-b979-42a1-d8a8-4bb1be81db0d"
      },
      "execution_count": null,
      "outputs": [
        {
          "output_type": "execute_result",
          "data": {
            "text/plain": [
              "False"
            ]
          },
          "metadata": {},
          "execution_count": 53
        }
      ]
    },
    {
      "cell_type": "code",
      "source": [
        "solution('kchlaecbielk')"
      ],
      "metadata": {
        "colab": {
          "base_uri": "https://localhost:8080/"
        },
        "id": "AkTyLizo9d7Q",
        "outputId": "24974313-0d34-4986-ec6f-657edf82f4b5"
      },
      "execution_count": null,
      "outputs": [
        {
          "output_type": "execute_result",
          "data": {
            "text/plain": [
              "True"
            ]
          },
          "metadata": {},
          "execution_count": 54
        }
      ]
    },
    {
      "cell_type": "code",
      "source": [
        "#========================================================================================================================="
      ],
      "metadata": {
        "id": "G0FNnCgF9iuT"
      },
      "execution_count": null,
      "outputs": []
    },
    {
      "cell_type": "markdown",
      "source": [
        "Return true if the last two characters in the string are equal.\n",
        "\n"
      ],
      "metadata": {
        "id": "Xeug5_9y9s7z"
      }
    },
    {
      "cell_type": "code",
      "source": [
        "#true of false answer\n",
        "#condition last two indices of string are equal\n"
      ],
      "metadata": {
        "id": "72EJ-HT09vry"
      },
      "execution_count": null,
      "outputs": []
    },
    {
      "cell_type": "code",
      "source": [
        "def solution(s):\n",
        "  return s[-1] == s[-2]"
      ],
      "metadata": {
        "id": "9VtaIIse96bQ"
      },
      "execution_count": null,
      "outputs": []
    },
    {
      "cell_type": "code",
      "source": [
        "solution('ljakhsdflakll')"
      ],
      "metadata": {
        "colab": {
          "base_uri": "https://localhost:8080/"
        },
        "id": "apbHwyAd9_m6",
        "outputId": "7767c611-737c-48fc-f804-1b6304109607"
      },
      "execution_count": null,
      "outputs": [
        {
          "output_type": "execute_result",
          "data": {
            "text/plain": [
              "True"
            ]
          },
          "metadata": {},
          "execution_count": 57
        }
      ]
    },
    {
      "cell_type": "code",
      "source": [
        "solution(\"lciqewgrlceb\")"
      ],
      "metadata": {
        "colab": {
          "base_uri": "https://localhost:8080/"
        },
        "id": "8PIL5krh-Com",
        "outputId": "d9456a08-c087-4b84-f19f-0877a8a3b4de"
      },
      "execution_count": null,
      "outputs": [
        {
          "output_type": "execute_result",
          "data": {
            "text/plain": [
              "False"
            ]
          },
          "metadata": {},
          "execution_count": 58
        }
      ]
    },
    {
      "cell_type": "code",
      "source": [
        "solution(\"liaucgefdbsiacyy\")"
      ],
      "metadata": {
        "colab": {
          "base_uri": "https://localhost:8080/"
        },
        "id": "rJD0Vj7n-CK9",
        "outputId": "ccb0920a-28c6-4b36-d099-5232eec69b0b"
      },
      "execution_count": null,
      "outputs": [
        {
          "output_type": "execute_result",
          "data": {
            "text/plain": [
              "True"
            ]
          },
          "metadata": {},
          "execution_count": 59
        }
      ]
    },
    {
      "cell_type": "code",
      "source": [
        "#========================================================================================================================="
      ],
      "metadata": {
        "id": "IZkFHswS-Iuw"
      },
      "execution_count": null,
      "outputs": []
    },
    {
      "cell_type": "markdown",
      "source": [
        "Return a lowercase version of the input string.\n",
        "\n",
        "Characters that are already lower case remain lowercase.\n",
        "\n",
        "Characters that aren't letters are unchanged."
      ],
      "metadata": {
        "id": "57ntVzJ9-LZq"
      }
    },
    {
      "cell_type": "code",
      "source": [
        "#take in a string and return the lowercase version of it\n",
        "#create a function that used the .lower() method to change the string to lowercase\n"
      ],
      "metadata": {
        "id": "SJWSG2lY-dIt"
      },
      "execution_count": null,
      "outputs": []
    },
    {
      "cell_type": "code",
      "source": [
        "def solution(s):\n",
        "  return s.lower()"
      ],
      "metadata": {
        "id": "fb0gRKvlsvOa"
      },
      "execution_count": null,
      "outputs": []
    },
    {
      "cell_type": "code",
      "source": [
        "solution('JKHSDAFGASDLKFHJA')"
      ],
      "metadata": {
        "colab": {
          "base_uri": "https://localhost:8080/",
          "height": 36
        },
        "id": "3CQAS203s59G",
        "outputId": "770371ed-491f-4227-8521-0942dcf0ce93"
      },
      "execution_count": null,
      "outputs": [
        {
          "output_type": "execute_result",
          "data": {
            "text/plain": [
              "'jkhsdafgasdlkfhja'"
            ],
            "application/vnd.google.colaboratory.intrinsic+json": {
              "type": "string"
            }
          },
          "metadata": {},
          "execution_count": 3
        }
      ]
    },
    {
      "cell_type": "code",
      "source": [
        "solution('lkajdsfalKDSFAGDSLFKVhhhh...!!!')"
      ],
      "metadata": {
        "colab": {
          "base_uri": "https://localhost:8080/",
          "height": 36
        },
        "id": "EQIlB16rs8a2",
        "outputId": "df0aef6b-6d1e-489f-90e2-c4312892540d"
      },
      "execution_count": null,
      "outputs": [
        {
          "output_type": "execute_result",
          "data": {
            "text/plain": [
              "'lkajdsfalkdsfagdslfkvhhhh...!!!'"
            ],
            "application/vnd.google.colaboratory.intrinsic+json": {
              "type": "string"
            }
          },
          "metadata": {},
          "execution_count": 4
        }
      ]
    },
    {
      "cell_type": "code",
      "source": [
        "#========================================================================================================================="
      ],
      "metadata": {
        "id": "z4b5U8zEtPsh"
      },
      "execution_count": null,
      "outputs": []
    },
    {
      "cell_type": "markdown",
      "source": [
        "Return true if a string is all uppercase.\n",
        "\n",
        "Javascript: there's no built-in for this. We have to compare the string to a lowercase version of itself created with .toUpperCase().\n",
        "\n",
        "Python: you can use the built-in .isupper() to determine this.\n",
        "\n",
        "One difference is that this technique on JavaScript will report punctuation as uppercase, but the Python version will not."
      ],
      "metadata": {
        "id": "jPymeWxmtsc8"
      }
    },
    {
      "cell_type": "code",
      "source": [
        "#true of false answer\n",
        "#conditon is if the string is all uppercase\n",
        "#compare the regular string input to the uppercase version of itsself"
      ],
      "metadata": {
        "id": "M2-vwQ_wtuch"
      },
      "execution_count": null,
      "outputs": []
    },
    {
      "cell_type": "code",
      "source": [
        "def solution(s):\n",
        "  return s == s.upper()"
      ],
      "metadata": {
        "id": "DE0Hnazjufux"
      },
      "execution_count": null,
      "outputs": []
    },
    {
      "cell_type": "code",
      "source": [
        "solution('KLFDHGALDK')"
      ],
      "metadata": {
        "colab": {
          "base_uri": "https://localhost:8080/"
        },
        "id": "o5zGVzYpuqd4",
        "outputId": "3d9697d4-9e9f-4f0a-a398-130a590ecd79"
      },
      "execution_count": null,
      "outputs": [
        {
          "output_type": "execute_result",
          "data": {
            "text/plain": [
              "True"
            ]
          },
          "metadata": {},
          "execution_count": 7
        }
      ]
    },
    {
      "cell_type": "code",
      "source": [
        "solution('kladkjh')"
      ],
      "metadata": {
        "colab": {
          "base_uri": "https://localhost:8080/"
        },
        "id": "Dm2YgwkwuunB",
        "outputId": "c9ae8306-f474-44f7-daa5-f567e11aaadf"
      },
      "execution_count": null,
      "outputs": [
        {
          "output_type": "execute_result",
          "data": {
            "text/plain": [
              "False"
            ]
          },
          "metadata": {},
          "execution_count": 8
        }
      ]
    },
    {
      "cell_type": "code",
      "source": [
        "#========================================================================================================================="
      ],
      "metadata": {
        "id": "incCoNwDuzhJ"
      },
      "execution_count": null,
      "outputs": []
    },
    {
      "cell_type": "markdown",
      "source": [
        "For a given string, return a new string with asterisks (*) on each side of each letter.\n",
        "\n",
        "If the string is empty, return an empty string.\n",
        "\n"
      ],
      "metadata": {
        "id": "cA_IVgGZvW1H"
      }
    },
    {
      "cell_type": "code",
      "source": [
        "#take in a string and return a new string with *i* for each i.\n",
        "#if the string is empty return an empty string\n",
        "#create a function that takes in a string and loops through it and for every letter place a * on each side "
      ],
      "metadata": {
        "id": "qqDY6NtYvaPL"
      },
      "execution_count": null,
      "outputs": []
    },
    {
      "cell_type": "code",
      "source": [
        "def solution(s):\n",
        "  result = ''\n",
        "  for i in s:\n",
        "    result += '*' + i + '*'\n",
        "  return result\n",
        "  "
      ],
      "metadata": {
        "id": "E50NGCOrF_UN"
      },
      "execution_count": null,
      "outputs": []
    },
    {
      "cell_type": "code",
      "source": [
        "solution('sdaflkghj')"
      ],
      "metadata": {
        "colab": {
          "base_uri": "https://localhost:8080/",
          "height": 36
        },
        "id": "fzBTVeYFGvMo",
        "outputId": "a74c53d1-3eb4-49b2-cb82-89f4e2a89161"
      },
      "execution_count": null,
      "outputs": [
        {
          "output_type": "execute_result",
          "data": {
            "text/plain": [
              "'*s**d**a**f**l**k**g**h**j*'"
            ],
            "application/vnd.google.colaboratory.intrinsic+json": {
              "type": "string"
            }
          },
          "metadata": {},
          "execution_count": 12
        }
      ]
    },
    {
      "cell_type": "code",
      "source": [
        "#========================================================================================================================"
      ],
      "metadata": {
        "id": "tspba5RLGx2O"
      },
      "execution_count": null,
      "outputs": []
    },
    {
      "cell_type": "markdown",
      "source": [
        "For a given string, return a new string with asterisks (*) on each side of each letter.\n",
        "\n",
        "Do not use any built-in join()-style functionality for this task.\n",
        "\n",
        "If the string is empty, return a single asterisks."
      ],
      "metadata": {
        "id": "9Qg9AQ53Ha4l"
      }
    },
    {
      "cell_type": "code",
      "source": [
        "#take in a string and return a new string with *i* for each i.\n",
        "#if the string is empty return an empty string\n",
        "#create a function that takes in a string and loops through it and for every letter place a * on each side "
      ],
      "metadata": {
        "id": "OOgsf2UIHdWN"
      },
      "execution_count": null,
      "outputs": []
    },
    {
      "cell_type": "code",
      "source": [
        "def solution(s):\n",
        "    if s == '':\n",
        "      return ''\n",
        "    else:\n",
        "      return f\"{s.replace('','*')}\"\n",
        "\n",
        "      #this code passed 4 ut of 5 tests"
      ],
      "metadata": {
        "id": "dlEp3spOHgpr"
      },
      "execution_count": null,
      "outputs": []
    },
    {
      "cell_type": "code",
      "source": [
        "solution('licdbclqblekb')"
      ],
      "metadata": {
        "colab": {
          "base_uri": "https://localhost:8080/",
          "height": 36
        },
        "id": "IrrNnn2rHtnb",
        "outputId": "6aebfb45-9799-40c0-de97-873ca88e18d1"
      },
      "execution_count": null,
      "outputs": [
        {
          "output_type": "execute_result",
          "data": {
            "text/plain": [
              "'*l*i*c*d*b*c*l*q*b*l*e*k*b*'"
            ],
            "application/vnd.google.colaboratory.intrinsic+json": {
              "type": "string"
            }
          },
          "metadata": {},
          "execution_count": 14
        }
      ]
    },
    {
      "cell_type": "code",
      "source": [
        "#========================================================================================================================"
      ],
      "metadata": {
        "id": "r0PFtUxtH08y"
      },
      "execution_count": null,
      "outputs": []
    },
    {
      "cell_type": "markdown",
      "source": [
        "For a given string, return the letter that's highest in the alphabet."
      ],
      "metadata": {
        "id": "-DaD_vXBNw4h"
      }
    },
    {
      "cell_type": "code",
      "source": [
        "#take is a string\n",
        "#check each letter and compare it to the whole alphabet\n",
        "#return the letter from the sting thaat is closest to the end of the alphabet"
      ],
      "metadata": {
        "id": "kw1LbGP5N16E"
      },
      "execution_count": null,
      "outputs": []
    },
    {
      "cell_type": "code",
      "source": [
        "#So in the example provided, the highest_letter function is using\n",
        "##lambda x: ord(x) as the key function for the max() function, this \n",
        "#means that the max function will compare the ordinal values of each\n",
        "#character in the string and return the one with the highest ordinal\n",
        "#value which is the highest letter in the alphabet."
      ],
      "metadata": {
        "id": "bEsZHVAZOZak"
      },
      "execution_count": null,
      "outputs": []
    },
    {
      "cell_type": "code",
      "source": [
        "def solution(s):\n",
        "  return max(s, key = lambda i: ord(i))"
      ],
      "metadata": {
        "id": "jXl4W5z0PSDT"
      },
      "execution_count": null,
      "outputs": []
    },
    {
      "cell_type": "code",
      "source": [
        "solution('lkdsajfglkwjhfx')"
      ],
      "metadata": {
        "colab": {
          "base_uri": "https://localhost:8080/",
          "height": 36
        },
        "id": "KmK5TZ6pPiFw",
        "outputId": "26066cf8-2929-4d07-a9e5-e75cf3f5b747"
      },
      "execution_count": null,
      "outputs": [
        {
          "output_type": "execute_result",
          "data": {
            "text/plain": [
              "'x'"
            ],
            "application/vnd.google.colaboratory.intrinsic+json": {
              "type": "string"
            }
          },
          "metadata": {},
          "execution_count": 16
        }
      ]
    },
    {
      "cell_type": "code",
      "source": [
        "#========================================================================================================================"
      ],
      "metadata": {
        "id": "XBWVxYhbP51f"
      },
      "execution_count": null,
      "outputs": []
    },
    {
      "cell_type": "markdown",
      "source": [
        "Construct a string of n capital \"A\"s.\n",
        "\n",
        "You must use a loop to solve this initially. After that, you can experiment with other built-in string duplication methods.\n",
        "\n",
        "\n"
      ],
      "metadata": {
        "id": "P9yvsEyvP5Sc"
      }
    },
    {
      "cell_type": "code",
      "source": [
        "import string\n",
        "#given a number return a string of that number of capital As in a string\n",
        "# use a for loop\n",
        "# start with empty string\n",
        "# for i in range(n)\n",
        "# add 'A' to the string\n"
      ],
      "metadata": {
        "id": "4MLvlUwcP9f6"
      },
      "execution_count": null,
      "outputs": []
    },
    {
      "cell_type": "code",
      "source": [
        "def solution(n):\n",
        "  result = ''\n",
        "  for i in range(n):\n",
        "    result += 'A'\n",
        "  return result"
      ],
      "metadata": {
        "id": "eGzpoRvQQdq6"
      },
      "execution_count": null,
      "outputs": []
    },
    {
      "cell_type": "code",
      "source": [
        "solution(10)"
      ],
      "metadata": {
        "colab": {
          "base_uri": "https://localhost:8080/",
          "height": 36
        },
        "id": "FA6C6VlfRMKO",
        "outputId": "4b5539d5-a840-4c4c-cb59-98a8875927e8"
      },
      "execution_count": null,
      "outputs": [
        {
          "output_type": "execute_result",
          "data": {
            "text/plain": [
              "'AAAAAAAAAA'"
            ],
            "application/vnd.google.colaboratory.intrinsic+json": {
              "type": "string"
            }
          },
          "metadata": {},
          "execution_count": 23
        }
      ]
    },
    {
      "cell_type": "code",
      "source": [
        "#========================================================================================================================"
      ],
      "metadata": {
        "id": "Fe1WCz3bRP4t"
      },
      "execution_count": null,
      "outputs": []
    },
    {
      "cell_type": "code",
      "source": [],
      "metadata": {
        "id": "1-qiRER_SRom"
      },
      "execution_count": null,
      "outputs": []
    },
    {
      "cell_type": "markdown",
      "source": [
        "You are given an array of integers arr. Consider its elements in pairs: (arr[0], arr[1]), (arr[2], arr[3]), and so on. Arrange the elements in each pair in ascending order. In other words, swap the position of paired elements if the left element is greater than the right one.\n",
        "\n",
        "If arr contains an odd number of elements, the last element should be left unchanged.\n",
        "\n",
        "Example\n",
        "\n",
        "For arr = [1, 5, 7, 3, 2, 1], the output should be solution(arr) = [1, 5, 3, 7, 1, 2].\n",
        "\n",
        "Explanation:\n",
        "\n",
        "The given array consists of 3 pairs: (1, 5), (7, 3), (2, 1).\n",
        "After arranging elements in each pair in ascending order, we get: (1, 5), (3, 7), (1, 2).\n",
        "So, the answer is [1, 5, 3, 7, 1, 2].\n",
        "For arr = [6, 7, 8, 8, 5, 3, 2], the output should be solution(arr) = [6, 7, 8, 8, 3, 5, 2].\n",
        "\n",
        "Explanation:\n",
        "\n",
        "The given array consists of 3 pairs and 1 ending element: (6, 7), (8, 8), (5, 3), and (2).\n",
        "After arranging elements in every pair in ascending order, we get: (6, 7), (8, 8), (3, 5), and (2).\n",
        "So, the answer is [6, 7, 8, 8, 3, 5, 2]."
      ],
      "metadata": {
        "id": "FGIIspJDVEoI"
      }
    },
    {
      "cell_type": "code",
      "source": [
        "#given an array of integers consider every two adjacent numbers to be a pair \n",
        "#order each pair in ascending order. \n",
        "#if there is an oddd number of integers the last one without a piar in unchanged.\n",
        "#createa a function that loops through an array and selects every two numbers as a pair without overlapping numbers\n",
        "#for each pair place the two numbers in ascending order"
      ],
      "metadata": {
        "id": "rBeBHAGDdqYT"
      },
      "execution_count": null,
      "outputs": []
    },
    {
      "cell_type": "code",
      "source": [
        "def solution(arr):\n",
        "  for i in range(0,len(arr)-1,2):\n",
        "    if arr[i] > arr[i+1]:\n",
        "      arr[i],arr[i+1] = arr[i+1],arr[i]\n",
        "  return arr"
      ],
      "metadata": {
        "id": "MwEb7UZXewmp"
      },
      "execution_count": null,
      "outputs": []
    },
    {
      "cell_type": "code",
      "source": [
        "solution([1,2,3,4,4,3,5,4])"
      ],
      "metadata": {
        "colab": {
          "base_uri": "https://localhost:8080/"
        },
        "id": "h0sxYx36rBQN",
        "outputId": "87528c03-82a1-447f-e1b5-edfe54cf419c"
      },
      "execution_count": null,
      "outputs": [
        {
          "output_type": "execute_result",
          "data": {
            "text/plain": [
              "[1, 2, 3, 4, 3, 4, 4, 5]"
            ]
          },
          "metadata": {},
          "execution_count": 4
        }
      ]
    },
    {
      "cell_type": "code",
      "source": [
        "#========================================================================================================================"
      ],
      "metadata": {
        "id": "fnKQMH1NVFXz"
      },
      "execution_count": null,
      "outputs": []
    },
    {
      "cell_type": "markdown",
      "source": [
        "Consider a league-style competition with several teams competing against each other in matches. Each match is comprised of two teams playing against each other. Teams try to score goals during a match, and the team that scores the most goals wins. The competition uses a point system to determine team rankings - after a match, the winning team receives 3 points, the losing team receives 0 points, or, in case of a tie/draw, both teams receive 1 point.\n",
        "\n",
        "The winner of the competition is the team that accumulates the most points. In case of a tie, the winner is the team with the highest goal difference. The team with the second place is the team that got more points (or the highest goal difference, in case of a tie) than every other team except the competition's winner. It is guaranteed that there will only be one winner in the competition and one team that gets the second place.\n",
        "\n",
        "Goal difference is calculated as scored_goals - conceded_goals, where scored_goals is the total number of goals scored during the competition, and conceded_goals is the total number of goals conceded during the competition.\n",
        "\n",
        "You are given 4 arrays of the same length: wins, draws, scored, and conceded. Within each array, the ith element represents the corresponding metric for the ith team - i.e., scored goals scored[i], conceded goals conceded[i], matches won wins[i], and matches tied draws[i] during the competition (for each i in 0, 1, ..., wins.length - 1).\n",
        "\n",
        "Your task is to determine the indices of the winning team and the team that got the second place.\n",
        "\n",
        "Example\n",
        "\n",
        "For wins = [2, 1, 0], draws = [1, 5, 6], scored = [20, 15, 10], and conceded = [20, 10, 15], the output should be\n",
        "solution(wins, draws, scored, conceded) = [1, 0].\n",
        "Explanation:\n",
        "\n",
        "The 0th team received 2 · 3 + 1 = 7 points;\n",
        "\n",
        "The 1st team received 1 · 3 + 5 = 8 points;\n",
        "\n",
        "The 2nd team received 0 · 3 + 6 = 6 points.\n",
        "As 8 > 7 > 6, the 1st team is the winner and the 0th team got the second place. So, the answer is [1, 0].\n",
        "\n",
        "For wins = [3, 1, 2, 2], draws = [1, 5, 4, 4], scored = [30, 10, 20, 40], and conceded = [32, 13, 18, 37], the output should be\n",
        "solution(wins, draws, scored, conceded) = [3, 2].\n",
        "\n",
        "Explanation:\n",
        "\n",
        "The 0th team received 3 · 3 + 1 = 10 points;\n",
        "The 1st team received 1 · 3 + 5 = 8 points;\n",
        "The 2nd team received 2 · 3 + 4 = 10 points;\n",
        "The 3rd team received 2 · 3 + 4 = 10 points.\n",
        "Three teams have the highest number of points: 0th, 2nd and 3rd\n",
        "The 0th team has a goal difference of 30 - 32 = -2;\n",
        "The 2nd team has a goal difference of 20 - 18 = 2;\n",
        "The 3rd team has a goal difference of 40 - 37 = 3;\n",
        "As 3 > 2 > -2, the 3rd team is the winner and the 2nd team got the second place. So, the answer is [3, 2]."
      ],
      "metadata": {
        "id": "BvxmJA-KVIn3"
      }
    },
    {
      "cell_type": "code",
      "source": [
        "#========================================================================================================================"
      ],
      "metadata": {
        "id": "JxxmNTAiVH39"
      },
      "execution_count": null,
      "outputs": []
    },
    {
      "cell_type": "markdown",
      "source": [
        "Let's define a rhombic area of size k as the set of all cells that are exactly k - 1 steps away (up, down, left, or right) from a given center cell in a matrix.\n",
        "\n",
        "In the image below, the black cell is the center of the rhombic area and every cell contains a number that represents the distance to the center, which is called radius. The distance between a center cell (centerX, centerY) and another cell (cellX, cellY) is calculated as follows distance = abs(centerX - cellX) + abs(centerY - cellY) + 1, where abs(x) is an absolute value of x.\n",
        "\n",
        "Cells with the same radius are colored in the same color.\n",
        "\n",
        "\n",
        "\n",
        "Given a rectangular matrix of integers matrix, and an integer radius, your task is the following:\n",
        "\n",
        "For each of the possible center cells of matrix, find the sum of all elements on the border of the surrounding rhombic area of size radius. Note: only consider the rhombic areas whose elements all fit within the bounds of matrix.\n",
        "From among these sums, find the highest value.\n",
        "Return an integer representing the highest sum.\n",
        "\n",
        "Example\n",
        "\n",
        "For\n",
        "\n",
        "matrix = [[10, 0, 4, 2, 7, 3],\n",
        "          [6, 2, 7, 2, 1, 1],\n",
        "          [4, 1, 4, 5, 3, 0],\n",
        "          [3, 5, 2, 1, 4, 6],\n",
        "          [3, 4, 6, 1, 0, 4],\n",
        "          [3, 4, 6, 1, 0, 4]]\n",
        "and radius = 3, the output should be solution(matrix, radius) = 31.\n",
        "\n",
        "Expand to see the example video.\n",
        "\n",
        "Note: If you are not able to see the video, use this link to access it.\n",
        "\n",
        "As you can see from the animation above, among these 6 rhombic areas there are four distinct sums: 27, 18, 31, 27. So the maximum sum among them is 31 which is the answer.\n",
        "\n",
        "For\n",
        "\n",
        "matrix = [[100]]\n",
        "and radius = 1, the output should be solution(matrix, radius) = 100.\n",
        "\n",
        "There is a single center, and the rhombic area of size radius = 1 contains a single number 100 as the center."
      ],
      "metadata": {
        "id": "ctgOO9-yVJKx"
      }
    },
    {
      "cell_type": "code",
      "source": [
        "#========================================================================================================================"
      ],
      "metadata": {
        "id": "SFgGpEOiVHdg"
      },
      "execution_count": null,
      "outputs": []
    },
    {
      "cell_type": "markdown",
      "source": [
        "\n",
        "RULES\n",
        "README\n",
        "SETTINGS\n",
        "Codewriting\n",
        "\n",
        "You are given two arrays of integers a and b, and an array queries, the elements of which are queries you are required to process. Every queries[i] can have one of the following two forms:\n",
        "\n",
        "[0, i, x]. In this case, you need to assign a[i] the value of x (a[i] = x).\n",
        "[1, x]. In this case, you need to find the total number of pairs of indices i and j such that a[i] + b[j] = x.\n",
        "Perform the given queries in order and return an array containing the results of the queries of the type [1, x].\n",
        "\n",
        "Example\n",
        "\n",
        "For a = [3, 4], b = [1, 2, 3], and queries = [[1, 5], [0, 0, 1], [1, 5]], the output should be solution(a, b, queries) = [2, 1].\n",
        "\n",
        "The arrays look like this initially:\n",
        "a = [3, 4] and b = [1, 2, 3]\n",
        "\n",
        "For the query [1, 5], there are two ways to form a sum of 5 using an element from each array: 5 = 3 + 2 = a[0] + b[1] and 5 = 4 + 1 = a[1] + b[0]. So the result is 2.\n",
        "\n",
        "The query [0, 0, 1] re-assigns the value of a[0] to 1, so the arrays now look like this:\n",
        "a = [1, 4] and b = [1, 2, 3]\n",
        "\n",
        "For the final [1, 5] query, there's now only one way to form a sum of 5 using an element from each array: 5 = 4 + 1 = a[1] + b[0]. So the result is 1.\n",
        "\n",
        "Since the two queries of type [1, x] gave results of 2 and 1 respectively, the answer is [2, 1].\n",
        "\n",
        "For a = [2, 3], b = [1, 2, 2], and queries = [[1, 4], [0, 0, 3], [1, 5]], the output should be solution(a, b, queries) = [3, 4].\n",
        "\n",
        "The arrays look like this initially:\n",
        "a = [2, 3] and b = [1, 2, 2]\n",
        "\n",
        "For the query [1, 4], there are three ways to form a sum of 4 using an element from each array: 4 = 2 + 2 = a[0] + b[1], 4 = 2 + 2 = a[0] + b[2], and 4 = 3 + 1 = a[1] + b[0]. So the result is 3.\n",
        "\n",
        "The query [0, 0, 3] re-assigns the value of a[0] to 3, so the arrays now look like this:\n",
        "a = [3, 3] and b = [1, 2, 2]\n",
        "\n",
        "For the query [1, 5], there are now 4 ways to form a sum of 5 using an element from each array: 5 = 3 + 2 = a[0] + b[1], 5 = 3 + 2 = a[0] + b[2], 5 = 3 + 2 = a[1] + b[1], and 5 = 3 + 2 = a[1] + b[2]. So the result is 4.\n",
        "\n",
        "Since the two queries of type [1, x] gave results of 3 and 4 respectively, the answer is [3, 4]."
      ],
      "metadata": {
        "id": "dfyQFjkaVJi1"
      }
    },
    {
      "cell_type": "code",
      "source": [
        "#========================================================================================================================"
      ],
      "metadata": {
        "id": "m_LwSFV_VYmm"
      },
      "execution_count": null,
      "outputs": []
    },
    {
      "cell_type": "markdown",
      "source": [
        "Given two strings, find the number of common characters between them.\n",
        "For s1 = \"aabcc\" and s2 = \"adcaa\", the output should be\n",
        "solution(s1, s2) = 3.\n",
        "\n",
        "# Strings have 3 common characters - 2 \"a\"s and 1 \"c\"."
      ],
      "metadata": {
        "id": "-EVg2HE1oNJM"
      }
    },
    {
      "cell_type": "code",
      "source": [
        "#finc the number of characters that are inside of two strings given 2 strings\n",
        "#create a function that takes in two strings\n",
        "#each string will be looked at and the common characters between them will be added to a list and the list will be counted"
      ],
      "metadata": {
        "id": "aQxGGwDloQSk"
      },
      "execution_count": null,
      "outputs": []
    },
    {
      "cell_type": "code",
      "source": [
        "def solution(s1,s2):\n",
        "  return sum([min(s1.count(c), s2.count(c)) for c in set(s1) & set(s2)])"
      ],
      "metadata": {
        "id": "rxX25xLUsuiG"
      },
      "execution_count": null,
      "outputs": []
    },
    {
      "cell_type": "code",
      "source": [
        "solution('ljsadfghklfas','ajsfhklashjf')"
      ],
      "metadata": {
        "colab": {
          "base_uri": "https://localhost:8080/"
        },
        "id": "7_aADveLujGF",
        "outputId": "e95043ab-b323-439a-91ec-1297b0455f5b"
      },
      "execution_count": null,
      "outputs": [
        {
          "output_type": "execute_result",
          "data": {
            "text/plain": [
              "10"
            ]
          },
          "metadata": {},
          "execution_count": 12
        }
      ]
    },
    {
      "cell_type": "code",
      "source": [
        "solution('aboieurwtoeirut', 'llllllllllllllllab')"
      ],
      "metadata": {
        "colab": {
          "base_uri": "https://localhost:8080/"
        },
        "id": "f2Ai1_-LumJA",
        "outputId": "c405ca77-0f9f-4a71-ac2f-8e64ed43a9e2"
      },
      "execution_count": null,
      "outputs": [
        {
          "output_type": "execute_result",
          "data": {
            "text/plain": [
              "2"
            ]
          },
          "metadata": {},
          "execution_count": 13
        }
      ]
    },
    {
      "cell_type": "markdown",
      "source": [
        "Explanation:\n",
        "\n",
        "set(s1) & set(s2) finds the intersection of unique characters in s1 and s2.\n",
        "min(s1.count(c), s2.count(c)) finds the minimum number of occurrences of character c in s1 and s2.\n",
        "sum([min(s1.count(c), s2.count(c)) for c in set(s1) & set(s2)]) sums up the minimum occurrences of all common characters."
      ],
      "metadata": {
        "id": "uBHXmSlTvCUg"
      }
    },
    {
      "cell_type": "code",
      "source": [
        "#========================================================================================================================"
      ],
      "metadata": {
        "id": "Ii4LybaivBSx"
      },
      "execution_count": null,
      "outputs": []
    },
    {
      "cell_type": "markdown",
      "source": [
        "Ticket numbers usually consist of an even number of digits. A ticket number is considered lucky if the sum of the first half of the digits is equal to the sum of the second half.\n",
        "\n",
        "Given a ticket number n, determine if it's lucky or not."
      ],
      "metadata": {
        "id": "YztjmhzRGq1X"
      }
    },
    {
      "cell_type": "code",
      "source": [
        "#take in a ticket number and conclude with true and false if it is lucky or not.\n",
        "#ticket numbers are even number of digits\n",
        "#lucky means the sum of the first half of the numbers is equal to the sum of the second half.\n",
        "#create a function that takes in an ticket with an even amount of numbers and sees if the sum of the first half of the ticket is equal to the sum of the second half of the ticket"
      ],
      "metadata": {
        "id": "XuuynWliGzvZ"
      },
      "execution_count": null,
      "outputs": []
    },
    {
      "cell_type": "code",
      "source": [
        "def solution(n):\n",
        "  n = str(n) # so we can iterate through the digits\n",
        "  half = len(n) // 2\n",
        "  return sum(int(d) for d in n[half:]) == sum(int(d) for d in n[:half])"
      ],
      "metadata": {
        "id": "-n41Y-4ZG1SV"
      },
      "execution_count": null,
      "outputs": []
    },
    {
      "cell_type": "code",
      "source": [
        "solution(2244)"
      ],
      "metadata": {
        "colab": {
          "base_uri": "https://localhost:8080/"
        },
        "id": "vUGFB76yJVsA",
        "outputId": "6c8a35ef-26dc-4978-e1e1-713e0852b86b"
      },
      "execution_count": null,
      "outputs": [
        {
          "output_type": "execute_result",
          "data": {
            "text/plain": [
              "False"
            ]
          },
          "metadata": {},
          "execution_count": 4
        }
      ]
    },
    {
      "cell_type": "code",
      "source": [
        "solution(222222)"
      ],
      "metadata": {
        "colab": {
          "base_uri": "https://localhost:8080/"
        },
        "id": "Ne_WIJasJqlO",
        "outputId": "15e80cde-daaa-4474-d699-bc1cb95228da"
      },
      "execution_count": null,
      "outputs": [
        {
          "output_type": "execute_result",
          "data": {
            "text/plain": [
              "True"
            ]
          },
          "metadata": {},
          "execution_count": 5
        }
      ]
    },
    {
      "cell_type": "code",
      "source": [
        "#========================================================================================================================"
      ],
      "metadata": {
        "id": "FOQVbdunG0uh"
      },
      "execution_count": null,
      "outputs": []
    },
    {
      "cell_type": "markdown",
      "source": [
        "Some people are standing in a row in a park. There are trees between them which cannot be moved. Your task is to rearrange the people by their heights in a non-descending order without moving the trees. People can be very tall!\n",
        "\n",
        "Example\n",
        "\n",
        "For a = [-1, 150, 190, 170, -1, -1, 160, 180], the output should be\n",
        "solution(a) = [-1, 150, 160, 170, -1, -1, 180, 190]."
      ],
      "metadata": {
        "id": "B7ql-fg8GwH1"
      }
    },
    {
      "cell_type": "code",
      "source": [
        "#rearage the numbers of a list except negative 1\n",
        "#rearage all numbers except the -1's that should stay in the same index they are already in\n",
        "#rearage the numbers in ascending order\n",
        "#create a function that takes in a list of numbers and multiple -1 values \n",
        "#loop through the list targeting all numbers except -1 by making a new list maybe of by selecting only select indices\n",
        "#rearange targeted numbers and then place them in order without making the -1's move\n"
      ],
      "metadata": {
        "id": "HHDQm4QYvF8K"
      },
      "execution_count": null,
      "outputs": []
    },
    {
      "cell_type": "code",
      "source": [
        "def solution(a):\n",
        "    # Find the people in the row\n",
        "    people = [x for x in a if x != -1]\n",
        "    # Sort the people by their height\n",
        "    people.sort()\n",
        "    # Replace the people in the original array with the sorted people\n",
        "    for i, x in enumerate(a):\n",
        "        if x != -1:\n",
        "            a[i] = people.pop(0)\n",
        "    return a"
      ],
      "metadata": {
        "id": "H4BxqXWBOkZq"
      },
      "execution_count": null,
      "outputs": []
    },
    {
      "cell_type": "code",
      "source": [
        "solution([-1, 150, 190, 170, -1, -1, 160, 180])"
      ],
      "metadata": {
        "colab": {
          "base_uri": "https://localhost:8080/"
        },
        "id": "W5-gnjybPA3H",
        "outputId": "205cc3ee-4f62-4096-9715-996d4520112d"
      },
      "execution_count": null,
      "outputs": [
        {
          "output_type": "execute_result",
          "data": {
            "text/plain": [
              "[-1, 150, 160, 170, -1, -1, 180, 190]"
            ]
          },
          "metadata": {},
          "execution_count": 11
        }
      ]
    },
    {
      "cell_type": "code",
      "source": [
        "#========================================================================================================================"
      ],
      "metadata": {
        "id": "eZiw5iHSPC43"
      },
      "execution_count": null,
      "outputs": []
    },
    {
      "cell_type": "markdown",
      "source": [
        "Write a function that reverses characters in (possibly nested) parentheses in the input string.\n",
        "\n",
        "Input strings will always be well-formed with matching ()s.\n",
        "\n",
        "Example\n",
        "\n",
        "For inputString = \"(bar)\", the output should be\n",
        "solution(inputString) = \"rab\";\n",
        "For inputString = \"foo(bar)baz\", the output should be\n",
        "solution(inputString) = \"foorabbaz\";\n",
        "For inputString = \"foo(bar)baz(blim)\", the output should be\n",
        "solution(inputString) = \"foorabbazmilb\";\n",
        "For inputString = \"foo(bar(baz))blim\", the output should be\n",
        "solution(inputString) = \"foobazrabblim\".\n",
        "Because \"foo(bar(baz))blim\" becomes \"foo(barzab)blim\" and then \"foobazrabblim\"."
      ],
      "metadata": {
        "id": "-HnJ4oDTSV3M"
      }
    },
    {
      "cell_type": "code",
      "source": [
        "def solution(inputString):\n",
        "    stack = []\n",
        "    result = ''\n",
        "    for char in inputString:\n",
        "        if char == '(':\n",
        "            stack.append(result)\n",
        "            result = ''\n",
        "        elif char == ')':\n",
        "            temp = stack.pop()\n",
        "            result = temp + result[::-1]\n",
        "        else:\n",
        "            result += char\n",
        "    return result\n",
        "    nsdc"
      ],
      "metadata": {
        "id": "8aQdOTxySW9q"
      },
      "execution_count": null,
      "outputs": []
    },
    {
      "cell_type": "markdown",
      "source": [
        "Given a rectangular matrix of characters, add a border of asterisks(*) to it.\n",
        "\n",
        "Example\n",
        "\n",
        "For\n",
        "\n",
        "picture = [\"abc\",\n",
        "           \"ded\"]\n",
        "the output should be\n",
        "\n",
        "solution(picture) = [\"*****\",\n",
        "                      \"*abc*\",\n",
        "                      \"*ded*\",\n",
        "                      \"*****\"]"
      ],
      "metadata": {
        "id": "z-mXoV1gvN63"
      }
    },
    {
      "cell_type": "code",
      "source": [
        "def solution(picture):\n",
        "    # Get the number of rows and columns in the matrix\n",
        "    rows = len(picture)\n",
        "    cols = len(picture[0])\n",
        "    bordered_matrix = [\"*\"*(cols+2)]\n",
        "    for i in picture:\n",
        "        bordered_matrix.append(\"*\"+i+\"*\")\n",
        "    bordered_matrix.append(\"*\"*(cols+2))\n",
        "    return bordered_matrix\n"
      ],
      "metadata": {
        "id": "iffaPlzHvNln"
      },
      "execution_count": null,
      "outputs": []
    },
    {
      "cell_type": "code",
      "source": [
        "def solution(picture):\n",
        "    l=len(picture[0])+2\n",
        "    return [\"*\"*l]+[x.center(l,\"*\") for x in picture]+[\"*\"*l]"
      ],
      "metadata": {
        "id": "9d8_h_8nvVs0"
      },
      "execution_count": null,
      "outputs": []
    },
    {
      "cell_type": "markdown",
      "source": [
        "Two arrays are called similar if one can be obtained from another by swapping at most one pair of elements in one of the arrays.\n",
        "\n",
        "Given two arrays a and b, check whether they are similar.\n",
        "\n",
        "Example\n",
        "\n",
        "For a = [1, 2, 3] and b = [1, 2, 3], the output should be\n",
        "solution(a, b) = true.\n",
        "\n",
        "The arrays are equal, no need to swap any elements.\n",
        "\n",
        "For a = [1, 2, 3] and b = [2, 1, 3], the output should be\n",
        "solution(a, b) = true.\n",
        "\n",
        "We can obtain b from a by swapping 2 and 1 in b.\n",
        "\n",
        "For a = [1, 2, 2] and b = [2, 1, 1], the output should be\n",
        "solution(a, b) = false.\n",
        "\n",
        "Any swap of any two elements either in a or in b won't make a and b equal."
      ],
      "metadata": {
        "id": "GOH0JNyblD0y"
      }
    },
    {
      "cell_type": "code",
      "source": [
        "def solution(a, b):\n",
        "    if len(a) != len(b):\n",
        "        return False\n",
        "    \n",
        "    if sorted(a) != sorted(b):\n",
        "        return False\n",
        "    \n",
        "    differences = 0\n",
        "    for i in range(len(a)):\n",
        "        if a[i] != b[i]:\n",
        "            differences += 1\n",
        "            if differences > 2:\n",
        "                return False\n",
        "            \n",
        "    return True if differences == 0 or differences == 2 else False\n"
      ],
      "metadata": {
        "id": "lPzfXxXo90tL"
      },
      "execution_count": null,
      "outputs": []
    },
    {
      "cell_type": "code",
      "source": [
        "# THE TOP RESPONSE FOR PYTHON WAS THIS MORE CONCISE VERSION\n",
        "def solution(A, B):\n",
        "    return sorted(A)==sorted(B) and sum([a!=b for a,b in zip(A,B)])<=2"
      ],
      "metadata": {
        "id": "4JXZZxmYm9B8"
      },
      "execution_count": null,
      "outputs": []
    },
    {
      "cell_type": "markdown",
      "source": [
        "keep in mind we are just CHECKING if the iterables are similar....not DOING THE SWAPPING. 1)CHECK FOR SAME LENGTH 2)CHECK FOR SORTED VERSIONS BEING EQUAL 3) CHECK FOR DIFFERENCES..IF MORE THAN 2 DIFFERENCES SWAPPING RETURN FALSE.\n",
        "\n",
        "MORE THAN 2 DIFFERENCES MEANS WE HAVE TO SWAP MORE THAN ONCE TO REACH THE RSULT OF THE TWO ITERABLES BEING =="
      ],
      "metadata": {
        "id": "GxEFjCV4mKpt"
      }
    },
    {
      "cell_type": "markdown",
      "source": [
        "The function first checks if the length of a and b are the same. If not, it returns False.\n",
        "\n",
        "Next, it checks if the sorted versions of a and b are equal. If they are not, then it means that there are some elements in a that are not in b, or vice versa, and swapping won't help make them similar.\n",
        "\n",
        "If the sorted arrays are equal, then the function counts the number of differences between a and b. If there are more than two differences, then swapping won't make them similar.\n",
        "\n",
        "Finally, the function returns True if there are no differences or if there are exactly two differences, and False otherwise.\n",
        "\n",
        "This solution has a time complexity of O(n log n) due to the sorting step, but since the arrays have at most 105 elements, it should be fast enough for the given constraints."
      ],
      "metadata": {
        "id": "m4PLSucVlJY7"
      }
    },
    {
      "cell_type": "code",
      "source": [
        "#========================================================================================================================\n",
        "#========================================================================================================================\n",
        "#========================================================================================================================\n",
        "#========================================================================================================================\n",
        "#========================================================================================================================\n",
        "#========================================================================================================================\n",
        "#========================================================================================================================\n",
        "#========================================================================================================================\n",
        "#========================================================================================================================"
      ],
      "metadata": {
        "id": "57Mb_WuavYvM"
      },
      "execution_count": null,
      "outputs": []
    },
    {
      "cell_type": "markdown",
      "source": [
        "You are given an array of integers. On each move you are allowed to increase exactly one of its element by one. Find the minimal number of moves required to obtain a strictly increasing sequence from the input.\n",
        "\n",
        "Example\n",
        "\n",
        "For inputArray = [1, 1, 1], the output should be\n",
        "solution(inputArray) = 3.\n",
        "\n",
        "Input/Output\n",
        "\n",
        "[execution time limit] 4 seconds (py3)\n",
        "\n",
        "[input] array.integer inputArray\n",
        "\n",
        "Guaranteed constraints:\n",
        "3 ≤ inputArray.length ≤ 105,\n",
        "-105 ≤ inputArray[i] ≤ 105.\n",
        "\n",
        "[output] integer\n",
        "\n",
        "The minimal number of moves needed to obtain a strictly increasing sequence from inputArray.\n",
        "It's guaranteed that for the given test cases the answer always fits signed 32-bit integer type."
      ],
      "metadata": {
        "id": "TdGbWxrnqnnE"
      }
    },
    {
      "cell_type": "code",
      "source": [
        "def solution(inputArray):\n",
        "    moves = 0\n",
        "    prev_num = inputArray[0]\n",
        "    for num in inputArray[1:]:\n",
        "        if num <= prev_num:\n",
        "            moves += prev_num - num + 1\n",
        "            num = prev_num + 1\n",
        "        prev_num = num\n",
        "    return moves"
      ],
      "metadata": {
        "id": "r7MpW7ozqm8Q"
      },
      "execution_count": null,
      "outputs": []
    },
    {
      "cell_type": "markdown",
      "source": [
        "A strictly increasing sequence is a sequence of numbers where each number is greater than the previous one. In other words, if the sequence is denoted as a[1], a[2], a[3], ..., a[n], then a[i] < a[i+1] for all i from 1 to n-1. The sequence does not contain any repeated numbers. For example, the sequence 1, 3, 5, 7 is a strictly increasing sequence, but the sequence 1, 2, 2, 3 is not."
      ],
      "metadata": {
        "id": "VwOoowbpr0mT"
      }
    },
    {
      "cell_type": "code",
      "source": [
        "def solution(inputArray):\n",
        "    a = 0\n",
        "    for i in range(1, len(inputArray)):\n",
        "        if inputArray[i] <= inputArray[i - 1]:\n",
        "            f = (inputArray[i - 1] - inputArray[i]) + 1\n",
        "            inputArray[i] = inputArray[i - 1] + 1\n",
        "            a += f\n",
        "    return a\n",
        "\n",
        "    #alternate solution"
      ],
      "metadata": {
        "id": "o4w1LxWIqvcp"
      },
      "execution_count": null,
      "outputs": []
    },
    {
      "cell_type": "markdown",
      "source": [
        "We add 1 to num above to ensure that the new value of num is strictly greater than the previous value prev_num.\n",
        "\n",
        "If num is less than or equal to prev_num, then we need to increase its value to make it strictly greater than prev_num. However, simply setting num to prev_num + 1 may not be enough if prev_num + 1 is still less than or equal to some other previous element in the sequence.\n",
        "\n",
        "So, to ensure that num is strictly greater than all previous elements in the sequence, we need to increase it by at least prev_num - num + 1. The prev_num - num part calculates the difference between prev_num and num, and adding 1 to this difference ensures that the new value of num is strictly greater than prev_num."
      ],
      "metadata": {
        "id": "iE9wCgpztjZH"
      }
    },
    {
      "cell_type": "code",
      "source": [],
      "metadata": {
        "id": "BO4KP-soti7N"
      },
      "execution_count": null,
      "outputs": []
    },
    {
      "cell_type": "code",
      "source": [
        "#========================================================================================================================\n",
        "#========================================================================================================================\n",
        "#========================================================================================================================\n",
        "#========================================================================================================================\n",
        "#========================================================================================================================\n",
        "#========================================================================================================================\n",
        "#========================================================================================================================\n",
        "#========================================================================================================================\n",
        "#========================================================================================================================"
      ],
      "metadata": {
        "id": "m5C9_fboqixr"
      },
      "execution_count": null,
      "outputs": []
    },
    {
      "cell_type": "markdown",
      "source": [
        "You are given an array of non-negative integers numbers. You are allowed to choose any number from this array and swap any two digits in it. If after the swap operation the number contains leading zeros, they can be omitted and not considered (eg: 010 will be considered just 10).\n",
        "\n",
        "Your task is to check whether it is possible to apply the swap operation at most once, so that the elements of the resulting array are strictly increasing.\n",
        "\n",
        "Example\n",
        "\n",
        "For numbers = [1, 5, 10, 20], the output should be solution(numbers) = true.\n",
        "\n",
        "The initial array is already strictly increasing, so no actions are required.\n",
        "\n",
        "For numbers = [1, 3, 900, 10], the output should be solution(numbers) = true.\n",
        "\n",
        "By choosing numbers[2] = 900 and swapping its first and third digits, the resulting number 009 is considered to be just 9. So the updated array will look like [1, 3, 9, 10], which is strictly increasing.\n",
        "\n",
        "For numbers = [13, 31, 30], the output should be solution(numbers) = false.\n",
        "\n",
        "The initial array elements are not increasing.\n",
        "By swapping the digits of numbers[0] = 13, the array becomes [31, 31, 30] which is not strictly increasing;\n",
        "By swapping the digits of numbers[1] = 31, the array becomes [13, 13, 30] which is not strictly increasing;\n",
        "By swapping the digits of numbers[2] = 30, the array becomes [13, 31, 3] which is not strictly increasing;\n",
        "So, it's not possible to obtain a strictly increasing array, and the answer is false."
      ],
      "metadata": {
        "id": "31-xTLhuaNu0"
      }
    },
    {
      "cell_type": "code",
      "source": [],
      "metadata": {
        "id": "Jd3519dHaHwk"
      },
      "execution_count": null,
      "outputs": []
    },
    {
      "cell_type": "code",
      "source": [
        "#========================================================================================================================\n",
        "#========================================================================================================================\n",
        "#========================================================================================================================\n",
        "#========================================================================================================================\n",
        "#========================================================================================================================\n",
        "#========================================================================================================================\n",
        "#========================================================================================================================\n",
        "#========================================================================================================================\n",
        "#========================================================================================================================"
      ],
      "metadata": {
        "id": "HTdqQRktqjkL"
      },
      "execution_count": null,
      "outputs": []
    },
    {
      "cell_type": "markdown",
      "source": [
        "You've created a new programming language, and now you've decided to add hashmap support to it. Actually you are quite disappointed that in common programming languages it's impossible to add a number to all hashmap keys, or all its values. So you've decided to take matters into your own hands and implement your own hashmap in your new language that has the following operations:\n",
        "\n",
        "insert x y - insert an object with key x and value y.\n",
        "get x - return the value of an object with key x.\n",
        "addToKey x - add x to all keys in map.\n",
        "addToValue y - add y to all values in map.\n",
        "To test out your new hashmap, you have a list of queries in the form of two arrays: queryTypes contains the names of the methods to be called (eg: insert, get, etc), and queries contains the arguments for those methods (the x and y values).\n",
        "\n",
        "Your task is to implement this hashmap, apply the given queries, and to find the sum of all the results for get operations.\n",
        "\n",
        "Example\n",
        "\n",
        "For queryType = [\"insert\", \"insert\", \"addToValue\", \"addToKey\", \"get\"] and query = [[1, 2], [2, 3], [2], [1], [3]], the output should be solution(queryType, query) = 5.\n",
        "\n",
        "The hashmap looks like this after each query:\n",
        "\n",
        "1 query: {1: 2}\n",
        "2 query: {1: 2, 2: 3}\n",
        "3 query: {1: 4, 2: 5}\n",
        "4 query: {2: 4, 3: 5}\n",
        "5 query: answer is 5\n",
        "The result of the last get query for 3 is 5 in the resulting hashmap.\n",
        "\n",
        "\n",
        "\n",
        "For queryType = [\"insert\", \"addToValue\", \"get\", \"insert\", \"addToKey\", \"addToValue\", \"get\"] and query = [[1, 2], [2], [1], [2, 3], [1], [-1], [3]], the output should be solution(queryType, query) = 6.\n",
        "\n",
        "The hashmap looks like this after each query:\n",
        "\n",
        "1 query: {1: 2}\n",
        "2 query: {1: 4}\n",
        "3 query: answer is 4\n",
        "4 query: {1: 4, 2: 3}\n",
        "5 query: {2: 4, 3: 3}\n",
        "6 query: {2: 3, 3: 2}\n",
        "7 query: answer is 2\n",
        "The sum of the results for all the get queries is equal to 4 + 2 = 6."
      ],
      "metadata": {
        "id": "x0T5QoHgaPy_"
      }
    },
    {
      "cell_type": "code",
      "source": [
        "#========================================================================================================================\n",
        "#========================================================================================================================\n",
        "#========================================================================================================================\n",
        "#========================================================================================================================\n",
        "#========================================================================================================================\n",
        "#========================================================================================================================\n",
        "#========================================================================================================================\n",
        "#========================================================================================================================\n",
        "#========================================================================================================================"
      ],
      "metadata": {
        "id": "pvspvcylqk7t"
      },
      "execution_count": null,
      "outputs": []
    },
    {
      "cell_type": "markdown",
      "source": [
        "Given a string, find out if its characters can be rearranged to form a palindrome.\n",
        "\n",
        "Example\n",
        "\n",
        "For inputString = \"aabb\", the output should be\n",
        "solution(inputString) = true.\n",
        "\n",
        "We can rearrange \"aabb\" to make \"abba\", which is a palindrome.\n",
        "\n",
        "Input/Output\n",
        "\n",
        "[execution time limit] 4 seconds (py3)\n",
        "\n",
        "[input] string inputString\n",
        "\n",
        "A string consisting of lowercase English letters.\n",
        "\n",
        "Guaranteed constraints:\n",
        "1 ≤ inputString.length ≤ 50.\n",
        "\n",
        "[output] boolean\n",
        "\n",
        "true if the characters of the inputString can be rearranged to form a palindrome, false otherwise.\n"
      ],
      "metadata": {
        "id": "e2RsDdDru_JA"
      }
    },
    {
      "cell_type": "code",
      "source": [
        "def solution(inputString):\n",
        "    char_counts = {}\n",
        "    for char in inputString:\n",
        "        if char in char_counts:\n",
        "            char_counts[char] += 1\n",
        "        else:\n",
        "            char_counts[char] = 1\n",
        "\n",
        "    odd_count = 0\n",
        "    for count in char_counts.values():\n",
        "        if count % 2 != 0:\n",
        "            odd_count += 1\n",
        "        if odd_count > 1:\n",
        "            return False\n",
        "\n",
        "    return True\n"
      ],
      "metadata": {
        "id": "R3PJ9BNgvnjL"
      },
      "execution_count": null,
      "outputs": []
    },
    {
      "cell_type": "code",
      "source": [
        "mor efficient code \n",
        "\n",
        "def solution(inputString):\n",
        "\n",
        "    return sum([inputString.count(i)%2 for i in set(inputString)]) <= 1"
      ],
      "metadata": {
        "id": "OzzqKNRIy8SE"
      },
      "execution_count": null,
      "outputs": []
    },
    {
      "cell_type": "markdown",
      "source": [
        "a palindrom must have all elements occuring an even number of times except one element that can occur an odd number of times (on the outsides and once in the middle or just once in the middle. we will start be making a function that initializes a dictionary  and adds the count of each character to the dictionary to reference later. then we loop through the dictionary of character counts and if each count is not divisable by two then it is added to the add_count list. if that list has more than one element in it we will return false....if it has less than or equal to one element that occurs an odd number of times and the rest are even then return true"
      ],
      "metadata": {
        "id": "WGFs3mT-vqaT"
      }
    },
    {
      "cell_type": "code",
      "source": [
        "#========================================================================================================================\n",
        "#========================================================================================================================\n",
        "#========================================================================================================================\n",
        "#========================================================================================================================\n",
        "#========================================================================================================================\n",
        "#========================================================================================================================\n",
        "#========================================================================================================================\n",
        "#========================================================================================================================\n",
        "#========================================================================================================================"
      ],
      "metadata": {
        "id": "2HVztxslqluh"
      },
      "execution_count": null,
      "outputs": []
    },
    {
      "cell_type": "markdown",
      "source": [
        "Call two arms equally strong if the heaviest weights they each are able to lift are equal.\n",
        "\n",
        "Call two people equally strong if their strongest arms are equally strong (the strongest arm can be both the right and the left), and so are their weakest arms.\n",
        "\n",
        "Given your and your friend's arms' lifting capabilities find out if you two are equally strong.\n",
        "\n",
        "Example\n",
        "\n",
        "For yourLeft = 10, yourRight = 15, friendsLeft = 15, and friendsRight = 10, the output should be\n",
        "solution(yourLeft, yourRight, friendsLeft, friendsRight) = true;\n",
        "For yourLeft = 15, yourRight = 10, friendsLeft = 15, and friendsRight = 10, the output should be\n",
        "solution(yourLeft, yourRight, friendsLeft, friendsRight) = true;\n",
        "For yourLeft = 15, yourRight = 10, friendsLeft = 15, and friendsRight = 9, the output should be\n",
        "solution(yourLeft, yourRight, friendsLeft, friendsRight) = false."
      ],
      "metadata": {
        "id": "gWkAfchk4aLJ"
      }
    },
    {
      "cell_type": "code",
      "source": [
        "def solution(yourLeft, yourRight, friendsLeft, friendsRight):\n",
        "    your_max = max(yourLeft, yourRight)\n",
        "    your_min = min(yourLeft, yourRight)\n",
        "    friends_max = max(friendsLeft, friendsRight)\n",
        "    friends_min = min(friendsLeft, friendsRight)\n",
        "    \n",
        "    return your_max == friends_max and your_min == friends_min\n"
      ],
      "metadata": {
        "id": "232GKBdi4YBT"
      },
      "execution_count": null,
      "outputs": []
    },
    {
      "cell_type": "markdown",
      "source": [
        "below is the more efficient code"
      ],
      "metadata": {
        "id": "sBXoNw-E4gxH"
      }
    },
    {
      "cell_type": "code",
      "source": [
        "def solution(yourLeft, yourRight, friendsLeft, friendsRight):\n",
        "    return {yourLeft, yourRight} == {friendsLeft, friendsRight}"
      ],
      "metadata": {
        "id": "8ush4KFn4W-m"
      },
      "execution_count": null,
      "outputs": []
    },
    {
      "cell_type": "code",
      "source": [
        "#========================================================================================================================\n",
        "#========================================================================================================================\n",
        "#========================================================================================================================\n",
        "#========================================================================================================================\n",
        "#========================================================================================================================\n",
        "#========================================================================================================================\n",
        "#========================================================================================================================\n",
        "#========================================================================================================================\n",
        "#========================================================================================================================"
      ],
      "metadata": {
        "id": "qbbz1DT3_ogM"
      },
      "execution_count": null,
      "outputs": []
    },
    {
      "cell_type": "markdown",
      "source": [
        "Suppose you are logged in to some virtual environment, where just two types of commands can be executed:\n",
        "\n",
        "goto <bucket_name> - move to the specified bucket bucket_name.\n",
        "You can assume the specified bucket always exists.\n",
        "create <filename> - create a new file named filename in the current bucket.\n",
        "If the file with the same name already exists in the current bucket, the command does nothing.\n",
        "Your task is to process all provided commands and return the bucket name that contains the largest number of files at the end. It is guaranteed that there is no tie for the largest bucket name.\n",
        "\n",
        "Notes:\n",
        "\n",
        "It is guaranteed that the first command is goto\n",
        "It is guaranteed that there is at least one create command\n",
        "Example\n",
        "\n",
        "For\n",
        "\n",
        "commands = [\n",
        "  \"goto bucketA\",\n",
        "  \"create fileA\",\n",
        "  \"create fileB\",\n",
        "  \"create fileA\",\n",
        "  \"goto bucketB\",\n",
        "  \"goto bucketC\",\n",
        "  \"create fileA\",\n",
        "  \"create fileB\",\n",
        "  \"create fileC\"\n",
        "]\n",
        "the output should be solution(commands) = \"bucketC\".\n",
        "\n",
        "Explanation:\n",
        "\n",
        "Command 0: goto bucketA changes the current bucket to bucketA\n",
        "Commands 1, 2: The next two commands create fileA and fileB files, so bucketA contains 2 files\n",
        "Command 3: Creating fileA in bucketA fails, as this file already exists there, so nothing happens\n",
        "Command 4: goto bucketB switches the current bucket to bucketB\n",
        "Command 5: goto bucketC switches the current bucket to bucketC\n",
        "Commands 6, 7, 8: The last three commands create fileA, fileB, and fileC in the bucketC\n",
        "After all commands processed, here is the state of the filesystem:\n",
        "\n",
        "bucketA contains files fileA and fileB\n",
        "bucketB is empty\n",
        "bucketC contains files fileA, fileB, and fileC\n",
        "As you can see, the bucket with largest number of files is bucketC"
      ],
      "metadata": {
        "id": "khYP5hYF_w64"
      }
    },
    {
      "cell_type": "code",
      "source": [
        "def solution(commands):\n",
        "    filesystem = {}\n",
        "    current_bucket = ''\n",
        "    \n",
        "    for command in commands:\n",
        "        if command.startswith('goto'):\n",
        "            current_bucket = command.split()[1]\n",
        "        elif command.startswith('create'):\n",
        "            filename = command.split()[1]\n",
        "            if current_bucket not in filesystem:\n",
        "                filesystem[current_bucket] = {}\n",
        "            if filename not in filesystem[current_bucket]:\n",
        "                filesystem[current_bucket][filename] = 1\n",
        "            else:\n",
        "                continue\n",
        "    \n",
        "    max_count = 0\n",
        "    max_bucket = ''\n",
        "    for bucket, files in filesystem.items():\n",
        "        count = len(files)\n",
        "        if count > max_count:\n",
        "            max_count = count\n",
        "            max_bucket = bucket\n",
        "            \n",
        "    return max_bucket"
      ],
      "metadata": {
        "id": "n46tDZPh_req"
      },
      "execution_count": null,
      "outputs": []
    },
    {
      "cell_type": "markdown",
      "source": [
        "Tomorrow i will begin my codingjourney to fully understand data structure and algorithms and problem solving through the language python. I will look into the python docs to begin the day!"
      ],
      "metadata": {
        "id": "N4nFKZgxaDM9"
      }
    },
    {
      "cell_type": "code",
      "source": [
        "#========================================================================================================================\n",
        "#========================================================================================================================\n",
        "#========================================================================================================================\n",
        "#========================================================================================================================\n",
        "#========================================================================================================================\n",
        "#========================================================================================================================\n",
        "#========================================================================================================================\n",
        "#========================================================================================================================\n",
        "#========================================================================================================================"
      ],
      "metadata": {
        "id": "mQPAROIoZ2Hk"
      },
      "execution_count": null,
      "outputs": []
    },
    {
      "cell_type": "markdown",
      "source": [
        "With python classes you can use composition or aggregation which are design patterns that allow you to combine multiple classes into a single more comlex class without actually passing the parent class into the constructor of the child class! Composition and aggregation"
      ],
      "metadata": {
        "id": "4SGbphMPUI4e"
      }
    },
    {
      "cell_type": "code",
      "source": [
        "#example)\n",
        "\n",
        "#firsrt we have a simplified parent class with no attributes (generally we want to use the init function anyways but this is just for the example purposes). the class contains a simple method\n",
        "class Parent:\n",
        "  def parent_method(self):\n",
        "    print(\"this is a parent method.\")\n",
        "#next we have a child class with a proper init function we will not pass parent into the constructor but we will rather call the function from the parent class\n",
        "class Child:\n",
        "  def __init__(self):\n",
        "    self.parent = Parent()#composition/aggregation\n",
        "#lastly we have a chile method that calls the parent method from the parent class, self.parent to access the parent() and then specify we want to access the parent method\n",
        "  def child_method(self):\n",
        "    print(\"This is a child method.\")\n",
        "    self.parent.parent_method()\n",
        "\n",
        "# to be able to access the child method to see if our alternative code for  inheritance works we need to create an instance of the child class like we did with the parent class\n",
        "# this will be Child_obj to represent an object we are creating to represent the chile class\n",
        "child_obj = Child() # child represents the child class the inherits from parent with composition\n"
      ],
      "metadata": {
        "id": "K5nBcT7VUzoI"
      },
      "execution_count": null,
      "outputs": []
    },
    {
      "cell_type": "code",
      "source": [
        "#next we will access the child method, i expect to see 2 seperate quotes \n",
        "child_obj.child_method()"
      ],
      "metadata": {
        "colab": {
          "base_uri": "https://localhost:8080/"
        },
        "id": "asqP0JoQZYJO",
        "outputId": "a201af90-4f93-4a11-b9b1-968ee3e63fb7"
      },
      "execution_count": null,
      "outputs": [
        {
          "output_type": "stream",
          "name": "stdout",
          "text": [
            "This is a child method.\n",
            "this is a parent method.\n"
          ]
        }
      ]
    },
    {
      "cell_type": "code",
      "source": [
        "#SUCCESS!!!!!!"
      ],
      "metadata": {
        "id": "skmfVIDeZozz"
      },
      "execution_count": null,
      "outputs": []
    },
    {
      "cell_type": "code",
      "source": [
        "#========================================================================================================================\n",
        "#========================================================================================================================\n",
        "#========================================================================================================================\n",
        "#========================================================================================================================\n",
        "#========================================================================================================================\n",
        "#========================================================================================================================\n",
        "#========================================================================================================================\n",
        "#========================================================================================================================\n",
        "#========================================================================================================================"
      ],
      "metadata": {
        "id": "peN0UakJZ1Qj"
      },
      "execution_count": null,
      "outputs": []
    },
    {
      "cell_type": "code",
      "source": [
        "#========================================================================================================================\n",
        "#========================================================================================================================\n",
        "#========================================================================================================================\n",
        "#========================================================================================================================\n",
        "#========================================================================================================================\n",
        "#========================================================================================================================\n",
        "#========================================================================================================================\n",
        "#========================================================================================================================\n",
        "#========================================================================================================================"
      ],
      "metadata": {
        "id": "TwD9t6qgZ1EP"
      },
      "execution_count": null,
      "outputs": []
    },
    {
      "cell_type": "code",
      "source": [
        "#========================================================================================================================\n",
        "#========================================================================================================================\n",
        "#========================================================================================================================\n",
        "#========================================================================================================================\n",
        "#========================================================================================================================\n",
        "#========================================================================================================================\n",
        "#========================================================================================================================\n",
        "#========================================================================================================================\n",
        "#========================================================================================================================"
      ],
      "metadata": {
        "id": "9XUARdqfZ05a"
      },
      "execution_count": null,
      "outputs": []
    },
    {
      "cell_type": "code",
      "source": [
        "#========================================================================================================================\n",
        "#========================================================================================================================\n",
        "#========================================================================================================================\n",
        "#========================================================================================================================\n",
        "#========================================================================================================================\n",
        "#========================================================================================================================\n",
        "#========================================================================================================================\n",
        "#========================================================================================================================\n",
        "#========================================================================================================================"
      ],
      "metadata": {
        "id": "b9kNeQuvZ0v1"
      },
      "execution_count": null,
      "outputs": []
    },
    {
      "cell_type": "code",
      "source": [
        "#========================================================================================================================\n",
        "#========================================================================================================================\n",
        "#========================================================================================================================\n",
        "#========================================================================================================================\n",
        "#========================================================================================================================\n",
        "#========================================================================================================================\n",
        "#========================================================================================================================\n",
        "#========================================================================================================================\n",
        "#========================================================================================================================"
      ],
      "metadata": {
        "id": "Q1gasXB4Z0kx"
      },
      "execution_count": null,
      "outputs": []
    },
    {
      "cell_type": "code",
      "source": [
        "#========================================================================================================================\n",
        "#========================================================================================================================\n",
        "#========================================================================================================================\n",
        "#========================================================================================================================\n",
        "#========================================================================================================================\n",
        "#========================================================================================================================\n",
        "#========================================================================================================================\n",
        "#========================================================================================================================\n",
        "#========================================================================================================================"
      ],
      "metadata": {
        "id": "UxtcLvTeZ0bM"
      },
      "execution_count": null,
      "outputs": []
    },
    {
      "cell_type": "code",
      "source": [
        "#========================================================================================================================\n",
        "#========================================================================================================================\n",
        "#========================================================================================================================\n",
        "#========================================================================================================================\n",
        "#========================================================================================================================\n",
        "#========================================================================================================================\n",
        "#========================================================================================================================\n",
        "#========================================================================================================================\n",
        "#========================================================================================================================"
      ],
      "metadata": {
        "id": "GtYI1N2fZ0PH"
      },
      "execution_count": null,
      "outputs": []
    },
    {
      "cell_type": "code",
      "source": [
        "#========================================================================================================================\n",
        "#========================================================================================================================\n",
        "#========================================================================================================================\n",
        "#========================================================================================================================\n",
        "#========================================================================================================================\n",
        "#========================================================================================================================\n",
        "#========================================================================================================================\n",
        "#========================================================================================================================\n",
        "#========================================================================================================================"
      ],
      "metadata": {
        "id": "8DqsLZWdZ0E6"
      },
      "execution_count": null,
      "outputs": []
    },
    {
      "cell_type": "code",
      "source": [
        "#========================================================================================================================\n",
        "#========================================================================================================================\n",
        "#========================================================================================================================\n",
        "#========================================================================================================================\n",
        "#========================================================================================================================\n",
        "#========================================================================================================================\n",
        "#========================================================================================================================\n",
        "#========================================================================================================================\n",
        "#========================================================================================================================"
      ],
      "metadata": {
        "id": "_scCDeeXZz52"
      },
      "execution_count": null,
      "outputs": []
    },
    {
      "cell_type": "code",
      "source": [
        "#========================================================================================================================\n",
        "#========================================================================================================================\n",
        "#========================================================================================================================\n",
        "#========================================================================================================================\n",
        "#========================================================================================================================\n",
        "#========================================================================================================================\n",
        "#========================================================================================================================\n",
        "#========================================================================================================================\n",
        "#========================================================================================================================"
      ],
      "metadata": {
        "id": "DOhvTlLsZzuM"
      },
      "execution_count": null,
      "outputs": []
    },
    {
      "cell_type": "code",
      "source": [
        "#========================================================================================================================\n",
        "#========================================================================================================================\n",
        "#========================================================================================================================\n",
        "#========================================================================================================================\n",
        "#========================================================================================================================\n",
        "#========================================================================================================================\n",
        "#========================================================================================================================\n",
        "#========================================================================================================================\n",
        "#========================================================================================================================"
      ],
      "metadata": {
        "id": "Dxq-Fnw6Zzh4"
      },
      "execution_count": null,
      "outputs": []
    },
    {
      "cell_type": "code",
      "source": [
        "#========================================================================================================================\n",
        "#========================================================================================================================\n",
        "#========================================================================================================================\n",
        "#========================================================================================================================\n",
        "#========================================================================================================================\n",
        "#========================================================================================================================\n",
        "#========================================================================================================================\n",
        "#========================================================================================================================\n",
        "#========================================================================================================================"
      ],
      "metadata": {
        "id": "u2UFYKH8ZzUj"
      },
      "execution_count": null,
      "outputs": []
    },
    {
      "cell_type": "code",
      "source": [
        "#========================================================================================================================\n",
        "#========================================================================================================================\n",
        "#========================================================================================================================\n",
        "#========================================================================================================================\n",
        "#========================================================================================================================\n",
        "#========================================================================================================================\n",
        "#========================================================================================================================\n",
        "#========================================================================================================================\n",
        "#========================================================================================================================"
      ],
      "metadata": {
        "id": "Kl2OlIYdZylB"
      },
      "execution_count": null,
      "outputs": []
    },
    {
      "cell_type": "code",
      "source": [],
      "metadata": {
        "id": "zJoEY57al8GY"
      },
      "execution_count": null,
      "outputs": []
    },
    {
      "cell_type": "markdown",
      "source": [
        "When solving data structure and algorithm problems with Python, it is important to choose the appropriate data structure for the problem at hand. Here are some steps you can follow to determine which data structure to use in a given scenario:\n",
        "\n",
        "Understand the problem requirements: Before choosing a data structure, it is important to understand the problem requirements. Ask yourself questions such as what kind of data needs to be stored, how will it be accessed, how often will it be updated, and what operations will be performed on the data.\n",
        "\n",
        "Consider the time and space complexity: Different data structures have different time and space complexities for different operations. Consider the performance requirements of the problem and choose a data structure that meets those requirements.\n",
        "\n",
        "Evaluate the tradeoffs: Different data structures have different strengths and weaknesses. For example, an array may be fast for accessing elements by index, but slow for inserting or deleting elements. A linked list may be fast for inserting or deleting elements, but slow for accessing elements by index. Evaluate the tradeoffs of different data structures and choose one that balances the performance requirements with the specific needs of the problem.\n",
        "\n",
        "Test and refine: Once you have chosen a data structure, test it with sample inputs and refine it if necessary. Consider edge cases and unexpected inputs to ensure that the chosen data structure performs well in all scenarios.\n",
        "\n",
        "Here are some common data structures and their typical use cases:\n",
        "\n",
        "Lists: Lists are a built-in data structure in Python that can store any type of data. They are useful when you need to store a collection of items that can be accessed by index or iterated over.\n",
        "\n",
        "Tuples: Tuples are similar to lists but are immutable, meaning they cannot be modified once created. They are useful when you need to store a fixed collection of items that won't change.\n",
        "\n",
        "Dictionaries: Dictionaries are a built-in data structure in Python that allow you to store key-value pairs. They are useful when you need to look up values by a specific key.\n",
        "\n",
        "Sets: Sets are a built-in data structure in Python that store unique elements. They are useful when you need to check if an element is in a collection or perform set operations such as union, intersection, and difference.\n",
        "\n",
        "Arrays: Arrays are a data structure that store a collection of items of the same data type. They are useful when you need to perform fast random access to elements and when memory efficiency is important.\n",
        "\n",
        "Linked lists: Linked lists are a data structure that store a collection of nodes where each node contains a value and a reference to the next node. They are useful when you need to insert or delete elements frequently.\n",
        "\n",
        "Trees: Trees are a data structure that store a collection of nodes where each node has zero or more child nodes. They are useful when you need to perform hierarchical operations on data such as searching, inserting, and deleting.\n",
        "\n",
        "Graphs: Graphs are a data structure that store a collection of nodes and edges between them. They are useful when you need to model relationships between elements."
      ],
      "metadata": {
        "id": "Jiu-ZbjkvOL1"
      }
    },
    {
      "cell_type": "code",
      "source": [],
      "metadata": {
        "id": "zM5QZRHlvd5n"
      },
      "execution_count": null,
      "outputs": []
    }
  ]
}