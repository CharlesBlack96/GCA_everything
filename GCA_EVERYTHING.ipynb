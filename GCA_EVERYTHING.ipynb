{
  "nbformat": 4,
  "nbformat_minor": 0,
  "metadata": {
    "colab": {
      "provenance": [],
      "authorship_tag": "ABX9TyN3F5hCYcc5UL/jw6HZ47Pk",
      "include_colab_link": true
    },
    "kernelspec": {
      "name": "python3",
      "display_name": "Python 3"
    },
    "language_info": {
      "name": "python"
    }
  },
  "cells": [
    {
      "cell_type": "markdown",
      "metadata": {
        "id": "view-in-github",
        "colab_type": "text"
      },
      "source": [
        "<a href=\"https://colab.research.google.com/github/CharlesBlack96/GCA_everything/blob/main/GCA_EVERYTHING.ipynb\" target=\"_parent\"><img src=\"https://colab.research.google.com/assets/colab-badge.svg\" alt=\"Open In Colab\"/></a>"
      ]
    },
    {
      "cell_type": "markdown",
      "source": [
        "1) read 3x - undertstand\n",
        "\n",
        "\n",
        "\n",
        "2) write down what problem needs me to do\n",
        "\n",
        "\n",
        "\n",
        "3) make and write down an lgorithm to solve\n",
        "\n",
        "\n",
        "\n",
        "4) translate to code \n",
        "\n",
        "\n",
        "\n",
        "5) debug\n"
      ],
      "metadata": {
        "id": "CClyJ4kK2iKU"
      }
    },
    {
      "cell_type": "markdown",
      "source": [
        "Compute the factorial of an integer n. This is commonly written as n!, which is read as \"n factorial\".\n",
        "\n",
        "You must use a loop to solve this problem. You cannot hard-code the answers.\n",
        "\n",
        "The factorial of a number is the product of every integer between 1 and n.\n",
        "\n",
        "Special case: the factorial of 0 is defined to be 1."
      ],
      "metadata": {
        "id": "Ns0yASQH2XNc"
      }
    },
    {
      "cell_type": "code",
      "source": [
        "#use a loop to find the factorial of integer n. n! is the factorial \n",
        "#there is a special case where the factorial of 0 is 1\n",
        "#write a function that breaks up a number into all the numbers used to count up to it including the number itsself\n",
        "#then put these numbers into a list or dictionary and loop through them and multiply the first to the second then the second to the third and so on\n",
        "#ex) 5 ......  1,2,3,4,5....... 1*2*3*4*5= 120...so input 5 and output is 120\n",
        "#how do i do this.. a for loop has less time complexity than using dictionaries\n"
      ],
      "metadata": {
        "id": "4wI6m9_v2YWZ"
      },
      "execution_count": null,
      "outputs": []
    },
    {
      "cell_type": "code",
      "source": [
        "def solution(n):\n",
        "  if n < 0:\n",
        "    return 'undefined'\n",
        "  elif n == 0:\n",
        "    return 1\n",
        "  else: \n",
        "    result = 1\n",
        "    for i in range(1, n+1):\n",
        "      result *= i\n",
        "    return result\n"
      ],
      "metadata": {
        "id": "JZh_Ra9CgkAG"
      },
      "execution_count": 11,
      "outputs": []
    },
    {
      "cell_type": "code",
      "source": [
        "#we use n+1 as the endpoint in the range because the range function has an EXCLUSIVE UPPER BOUND"
      ],
      "metadata": {
        "id": "nCH9JSrmikP5"
      },
      "execution_count": null,
      "outputs": []
    },
    {
      "cell_type": "code",
      "source": [
        "solution(5)"
      ],
      "metadata": {
        "colab": {
          "base_uri": "https://localhost:8080/"
        },
        "id": "dYRyXUgYhhF-",
        "outputId": "9bac081b-3869-4262-eb74-aa3e1376995a"
      },
      "execution_count": 12,
      "outputs": [
        {
          "output_type": "execute_result",
          "data": {
            "text/plain": [
              "120"
            ]
          },
          "metadata": {},
          "execution_count": 12
        }
      ]
    },
    {
      "cell_type": "code",
      "source": [
        "solution(6)"
      ],
      "metadata": {
        "colab": {
          "base_uri": "https://localhost:8080/"
        },
        "id": "VNpXlFKUh7eC",
        "outputId": "da13c2af-52c6-4c76-b3ac-6953a8acf9d2"
      },
      "execution_count": 13,
      "outputs": [
        {
          "output_type": "execute_result",
          "data": {
            "text/plain": [
              "720"
            ]
          },
          "metadata": {},
          "execution_count": 13
        }
      ]
    },
    {
      "cell_type": "code",
      "source": [
        "#========================================================================================================================="
      ],
      "metadata": {
        "id": "Xe3MYXQph_Cj"
      },
      "execution_count": null,
      "outputs": []
    },
    {
      "cell_type": "markdown",
      "source": [
        "Compute the product of all numbers from a to b, inclusive."
      ],
      "metadata": {
        "id": "rAjYrSbblKmF"
      }
    },
    {
      "cell_type": "code",
      "source": [
        "#find product of all numbers from a to b inclusive\n",
        "#create a function with a loop, have the range start with a and end with b+1\n",
        "#the result should be declared at 1 but the function should return result * i (or each iteration in the length of the for loop)\n",
        "\n",
        "#constraints = -12 <= a < b <= 12"
      ],
      "metadata": {
        "id": "23TbNBPclQC-"
      },
      "execution_count": null,
      "outputs": []
    },
    {
      "cell_type": "code",
      "source": [
        "def solution(a,b):\n",
        "  if a > b:\n",
        "    return 'undefined'\n",
        "  elif a < -12 and b < -12:\n",
        "    return 'undefined'\n",
        "  elif a > 12 or b > 12:\n",
        "    return 'undefined'\n",
        "  else:\n",
        "    result = 1 # to ensure correct answers given for any input and that the result doesnt return 0 everytime\n",
        "    for i in range(a, b+1):\n",
        "      result = result * i\n",
        "    return result\n",
        "\n",
        "    "
      ],
      "metadata": {
        "id": "Gq8ye-A4l2yj"
      },
      "execution_count": 25,
      "outputs": []
    },
    {
      "cell_type": "code",
      "source": [
        "#i wanted to initialize result as a but instead i should do 1 because \n",
        "#1) the product of any number and 1 is itsself\n",
        "#2) accounting for the fact that if a is 0 the answer would be 0 \n",
        "#3) 1 ensures that the function always gives correct reult for any input if a and b\n"
      ],
      "metadata": {
        "id": "9xLDDSdEopNd"
      },
      "execution_count": 24,
      "outputs": []
    },
    {
      "cell_type": "code",
      "source": [
        "solution(2,8)"
      ],
      "metadata": {
        "colab": {
          "base_uri": "https://localhost:8080/"
        },
        "id": "ZydWf-8Em6TU",
        "outputId": "884d8f01-3123-42c7-9a18-af6738786649"
      },
      "execution_count": 26,
      "outputs": [
        {
          "output_type": "execute_result",
          "data": {
            "text/plain": [
              "40320"
            ]
          },
          "metadata": {},
          "execution_count": 26
        }
      ]
    },
    {
      "cell_type": "code",
      "source": [
        "solution(6,10)"
      ],
      "metadata": {
        "colab": {
          "base_uri": "https://localhost:8080/"
        },
        "id": "CV1Rjdlnm-aF",
        "outputId": "b8e3279b-1c3d-4f8e-ca3f-b9377cd04c4f"
      },
      "execution_count": 27,
      "outputs": [
        {
          "output_type": "execute_result",
          "data": {
            "text/plain": [
              "30240"
            ]
          },
          "metadata": {},
          "execution_count": 27
        }
      ]
    },
    {
      "cell_type": "code",
      "source": [
        "solution(2,17)"
      ],
      "metadata": {
        "colab": {
          "base_uri": "https://localhost:8080/",
          "height": 35
        },
        "id": "0GjUaqjzm-U5",
        "outputId": "5d70f813-47c5-4e10-8967-8e7006f7639b"
      },
      "execution_count": 28,
      "outputs": [
        {
          "output_type": "execute_result",
          "data": {
            "text/plain": [
              "'undefined'"
            ],
            "application/vnd.google.colaboratory.intrinsic+json": {
              "type": "string"
            }
          },
          "metadata": {},
          "execution_count": 28
        }
      ]
    },
    {
      "cell_type": "code",
      "source": [
        "#========================================================================================================================="
      ],
      "metadata": {
        "id": "a1qNqbgine9D"
      },
      "execution_count": null,
      "outputs": []
    },
    {
      "cell_type": "markdown",
      "source": [
        "Return the length of a string.\n",
        "\n",
        "JavaScript: you can get the length with s.length.\n",
        "Python: you can get the length with len(s).\n",
        "Java: you can get the length with s.length().\n"
      ],
      "metadata": {
        "id": "iBu1bHWKqX0j"
      }
    },
    {
      "cell_type": "code",
      "source": [
        "#return the length of a string\n",
        "#create a function that initializes result as 1 and then loops through a string and for each letter or i we will add 1 to result up until\n",
        "# the length of the string\n",
        "#after looping we will return result\n"
      ],
      "metadata": {
        "id": "b0WYpMUiqdsY"
      },
      "execution_count": null,
      "outputs": []
    },
    {
      "cell_type": "code",
      "source": [
        "def solution(s):\n",
        "  result = 1\n",
        "  for i in range(1, len(s)):\n",
        "    result = result + 1\n",
        "  return result"
      ],
      "metadata": {
        "id": "RPXWWiLMrANS"
      },
      "execution_count": 33,
      "outputs": []
    },
    {
      "cell_type": "code",
      "source": [
        "#if i read the prompt 3 times and wrote it down and my plan i might not have resulted to the habit of a for loop....overthinking\n",
        "#the answer was given to me in the prompt!!!!!\n",
        "#dont skkip steps 1 and 2 in problem solving"
      ],
      "metadata": {
        "id": "2N-bjOgcsSEu"
      },
      "execution_count": 42,
      "outputs": []
    },
    {
      "cell_type": "code",
      "source": [
        "def solution(s):\n",
        "  return len(s)"
      ],
      "metadata": {
        "id": "pBzzLgVisJFG"
      },
      "execution_count": 37,
      "outputs": []
    },
    {
      "cell_type": "code",
      "source": [
        "solution('123456789')\n"
      ],
      "metadata": {
        "colab": {
          "base_uri": "https://localhost:8080/"
        },
        "id": "-TzXmnCHrY6d",
        "outputId": "28b24aed-dd2f-4e87-8a43-fd53c514b5a7"
      },
      "execution_count": 38,
      "outputs": [
        {
          "output_type": "execute_result",
          "data": {
            "text/plain": [
              "9"
            ]
          },
          "metadata": {},
          "execution_count": 38
        }
      ]
    },
    {
      "cell_type": "code",
      "source": [
        "solution('123')"
      ],
      "metadata": {
        "colab": {
          "base_uri": "https://localhost:8080/"
        },
        "id": "HcCXt91irkWx",
        "outputId": "37c23276-9003-4bb3-a535-950ab2977a30"
      },
      "execution_count": 39,
      "outputs": [
        {
          "output_type": "execute_result",
          "data": {
            "text/plain": [
              "3"
            ]
          },
          "metadata": {},
          "execution_count": 39
        }
      ]
    },
    {
      "cell_type": "code",
      "source": [
        "solution('lfiqwebrclqkhwbrclbqwlkedcblwIDECB')"
      ],
      "metadata": {
        "colab": {
          "base_uri": "https://localhost:8080/"
        },
        "id": "2BX3NcDFrj_Q",
        "outputId": "c43154c9-dbec-4744-bd4f-8113055bc10c"
      },
      "execution_count": 40,
      "outputs": [
        {
          "output_type": "execute_result",
          "data": {
            "text/plain": [
              "34"
            ]
          },
          "metadata": {},
          "execution_count": 40
        }
      ]
    },
    {
      "cell_type": "code",
      "source": [
        "#========================================================================================================================="
      ],
      "metadata": {
        "id": "up3pFfSssIMr"
      },
      "execution_count": null,
      "outputs": []
    },
    {
      "cell_type": "markdown",
      "source": [
        "Return the character at index n in a string s.\n",
        "\n",
        "If the index is out of range of the length of the string, return the string \"none\". Otherwise, return the character at that index.\n",
        "\n",
        "Java hint: you can convert a character to a string with Character.toString()."
      ],
      "metadata": {
        "id": "2gIlBcBgsxPp"
      }
    },
    {
      "cell_type": "code",
      "source": [
        "#read 3x\n",
        "#write in my own words\n",
        "#write down alorith to solve including details from prompt\n",
        "#translate t python\n",
        "#debug\n",
        "\n",
        "#return whatever character is at index n of a string\n",
        "#loop through a string until the given index and print out the value of the index\n",
        "#might need to turn value into a string using str() method\n",
        "#return none if the index is out of range\n",
        "def solution(s, n):\n",
        " if n < 0 or n >= len(s):\n",
        "   return 'none'\n",
        " else:\n",
        "    return s[n]\n",
        "\n"
      ],
      "metadata": {
        "id": "XWT1_Otas4Vb"
      },
      "execution_count": 43,
      "outputs": []
    },
    {
      "cell_type": "code",
      "source": [
        "solution('kasjdfgalwhf', 2)"
      ],
      "metadata": {
        "colab": {
          "base_uri": "https://localhost:8080/",
          "height": 35
        },
        "id": "7kljQ7MH0xDe",
        "outputId": "3b89ff61-508e-441c-9a1b-c296b83e1cf9"
      },
      "execution_count": 45,
      "outputs": [
        {
          "output_type": "execute_result",
          "data": {
            "text/plain": [
              "'s'"
            ],
            "application/vnd.google.colaboratory.intrinsic+json": {
              "type": "string"
            }
          },
          "metadata": {},
          "execution_count": 45
        }
      ]
    },
    {
      "cell_type": "code",
      "source": [
        "#========================================================================================================================="
      ],
      "metadata": {
        "id": "A__6wWlw1si1"
      },
      "execution_count": null,
      "outputs": []
    },
    {
      "cell_type": "markdown",
      "source": [
        "Return an uppercase version of the input string.\n",
        "\n",
        "Characters that are already uppercase remain uppercase.\n",
        "\n",
        "Characters that aren't letters are unchanged."
      ],
      "metadata": {
        "id": "MkVaKtIuZfLd"
      }
    },
    {
      "cell_type": "code",
      "source": [
        "#turn an entire string to uppercase...uppercase characters will stay uppercase and characters that are not letters dont change\n",
        "#create a function that takes in a string\n",
        "#it will take that string and use a built in method to change it to uppercase?\n",
        "#or it will loop through the string and change each letter to an uppercase \n",
        "#the function will have two if statements to account for the nonletters and alreadyuppercase characters\n",
        "\n",
        "def solution(s):\n",
        "  return str.upper(s)"
      ],
      "metadata": {
        "id": "FloFPePaZh-S"
      },
      "execution_count": 3,
      "outputs": []
    },
    {
      "cell_type": "code",
      "source": [
        "solution('lahsdglHHHHHHH!!!!!!!javaklbjla')"
      ],
      "metadata": {
        "colab": {
          "base_uri": "https://localhost:8080/",
          "height": 35
        },
        "id": "cD0yFvuBcb1-",
        "outputId": "c23f5c2c-ccb7-42b6-ef47-53fe1ffa0eac"
      },
      "execution_count": 2,
      "outputs": [
        {
          "output_type": "execute_result",
          "data": {
            "text/plain": [
              "'LAHSDGLHHHHHHH!!!!!!!JAVAKLBJLA'"
            ],
            "application/vnd.google.colaboratory.intrinsic+json": {
              "type": "string"
            }
          },
          "metadata": {},
          "execution_count": 2
        }
      ]
    },
    {
      "cell_type": "code",
      "source": [
        "#========================================================================================================================="
      ],
      "metadata": {
        "id": "sehce34hclqC"
      },
      "execution_count": null,
      "outputs": []
    },
    {
      "cell_type": "markdown",
      "source": [
        "Return true if a string is all lowercase.\n",
        "\n",
        "Java and Javascript: there's no built-in for this. We have to compare the string to a lowercase version of itself created with .toLowerCase().\n",
        "\n",
        "Python: you can use the built-in .islower() to determine this.\n",
        "\n",
        "One difference is that this technique on JavaScript will report punctuation as lowercase, but the Python version will not."
      ],
      "metadata": {
        "id": "ExMFCMhcdH-5"
      }
    },
    {
      "cell_type": "code",
      "source": [
        "#give an answer of true of false for if a string is all lowercase\n",
        "#compare the string to the lowercase version of itsself!\n",
        "#that should be it the function will return boolean by default"
      ],
      "metadata": {
        "id": "ycO-lveXdLcY"
      },
      "execution_count": null,
      "outputs": []
    },
    {
      "cell_type": "code",
      "source": [
        "def solution(s):\n",
        "  return s == str.lower(s)"
      ],
      "metadata": {
        "id": "cEFrWd_7gV-w"
      },
      "execution_count": 7,
      "outputs": []
    },
    {
      "cell_type": "code",
      "source": [
        "solution('lisyagfflaisu')"
      ],
      "metadata": {
        "colab": {
          "base_uri": "https://localhost:8080/"
        },
        "id": "OACDFuAuglJC",
        "outputId": "1fdfa4cb-5c3b-41df-b207-c673c858d6ae"
      },
      "execution_count": 8,
      "outputs": [
        {
          "output_type": "execute_result",
          "data": {
            "text/plain": [
              "True"
            ]
          },
          "metadata": {},
          "execution_count": 8
        }
      ]
    },
    {
      "cell_type": "code",
      "source": [
        "solution('liasduhHlaygl')"
      ],
      "metadata": {
        "colab": {
          "base_uri": "https://localhost:8080/"
        },
        "id": "OF5rziCZgpqZ",
        "outputId": "43f0aea4-b2b5-4a91-b4ea-7bd1d918d69e"
      },
      "execution_count": 9,
      "outputs": [
        {
          "output_type": "execute_result",
          "data": {
            "text/plain": [
              "False"
            ]
          },
          "metadata": {},
          "execution_count": 9
        }
      ]
    },
    {
      "cell_type": "code",
      "source": [
        "solution('liasdscaw;ucqwhnp9a;owicnwqepipqw;oeuncaerc[poqn4455l')"
      ],
      "metadata": {
        "colab": {
          "base_uri": "https://localhost:8080/"
        },
        "id": "fGhhDEishBt7",
        "outputId": "51f3b631-d97d-4827-ada0-405ca9827fa8"
      },
      "execution_count": 10,
      "outputs": [
        {
          "output_type": "execute_result",
          "data": {
            "text/plain": [
              "True"
            ]
          },
          "metadata": {},
          "execution_count": 10
        }
      ]
    },
    {
      "cell_type": "code",
      "source": [
        "#========================================================================================================================="
      ],
      "metadata": {
        "id": "UlnrlnMag3rm"
      },
      "execution_count": null,
      "outputs": []
    },
    {
      "cell_type": "markdown",
      "source": [
        "Count the number of occurrences of a letter in a string.\n",
        "\n",
        "Do not use any built-in count() style functions for this task."
      ],
      "metadata": {
        "id": "ExkU0pnWhUS-"
      }
    },
    {
      "cell_type": "code",
      "source": [
        "#dont use count function\n",
        "#return the number of occurences of each letter in a string\n",
        "#create a function that loops through a string and counts each letter\n",
        "#use a dictionary?...if then statements \n",
        "#or use a for loop..create a list called counts..."
      ],
      "metadata": {
        "id": "ZP2GpN-vhZmR"
      },
      "execution_count": null,
      "outputs": []
    },
    {
      "cell_type": "code",
      "source": [
        "def solution(s, letter):\n",
        "  letter_count = 0\n",
        "  for char in s:\n",
        "    if char == letter:\n",
        "      letter_count += 1\n",
        "  return letter_count "
      ],
      "metadata": {
        "id": "t9NQSqgyiMi1"
      },
      "execution_count": 21,
      "outputs": []
    },
    {
      "cell_type": "code",
      "source": [
        "solution('ilagsdcliuqwherlcqherf7t  hd;qwjneldiqgwo8egcoqwbecl', \"h\")\n"
      ],
      "metadata": {
        "colab": {
          "base_uri": "https://localhost:8080/"
        },
        "id": "IQ9zozCxkjlS",
        "outputId": "87197551-451e-4117-d21f-59c057384bbe"
      },
      "execution_count": 22,
      "outputs": [
        {
          "output_type": "execute_result",
          "data": {
            "text/plain": [
              "3"
            ]
          },
          "metadata": {},
          "execution_count": 22
        }
      ]
    },
    {
      "cell_type": "code",
      "source": [
        "solution('hhhhhhhhaiaiaiiaiaiaiayyyayyyahhhavsvvvvvvvvv', 's')"
      ],
      "metadata": {
        "colab": {
          "base_uri": "https://localhost:8080/"
        },
        "id": "EsNzGfSFkqTH",
        "outputId": "b53bc375-5381-4833-e7d2-d778fba553b1"
      },
      "execution_count": 24,
      "outputs": [
        {
          "output_type": "execute_result",
          "data": {
            "text/plain": [
              "1"
            ]
          },
          "metadata": {},
          "execution_count": 24
        }
      ]
    },
    {
      "cell_type": "code",
      "source": [
        "#========================================================================================================================="
      ],
      "metadata": {
        "id": "ulVcQvE3lHxq"
      },
      "execution_count": 25,
      "outputs": []
    },
    {
      "cell_type": "markdown",
      "source": [
        "Given a number, return the number of digits.\n",
        "\n",
        "Hint:\n",
        "\n",
        "JavaScript: you can convert a number to a string with the String() function.\n",
        "Python: you can convert a number to a string with the str() function.\n",
        "Java: you can convert a number to a string with the String.valueOf() function."
      ],
      "metadata": {
        "id": "_SK_Y-ZYnT_a"
      }
    },
    {
      "cell_type": "code",
      "source": [
        "#input: number output: number of digits in number\n",
        "#create a function that takes in anumber and \n",
        "#creates a count = 0\n",
        "#loops through the integer and for each digit adds 1 to the count\n",
        "#the count will be returned\n",
        "\n",
        "\n",
        "#int is not iterable....must turn int into a string\n"
      ],
      "metadata": {
        "id": "9wG7gUYonWsq"
      },
      "execution_count": 26,
      "outputs": []
    },
    {
      "cell_type": "code",
      "source": [
        "def solution(n):\n",
        "  count = 0\n",
        "  for digit in str(n):\n",
        "    count = count +1\n",
        "  return count\n"
      ],
      "metadata": {
        "id": "Ex54JHy4nyyO"
      },
      "execution_count": 29,
      "outputs": []
    },
    {
      "cell_type": "code",
      "source": [
        "solution(1217424127641221761285)"
      ],
      "metadata": {
        "colab": {
          "base_uri": "https://localhost:8080/"
        },
        "id": "RSy0xwsKoIxd",
        "outputId": "05ae1455-64ff-443c-f514-90801f57b1a8"
      },
      "execution_count": 30,
      "outputs": [
        {
          "output_type": "execute_result",
          "data": {
            "text/plain": [
              "22"
            ]
          },
          "metadata": {},
          "execution_count": 30
        }
      ]
    },
    {
      "cell_type": "code",
      "source": [
        "#========================================================================================================================="
      ],
      "metadata": {
        "id": "MCq1xy3JoMki"
      },
      "execution_count": null,
      "outputs": []
    },
    {
      "cell_type": "markdown",
      "source": [
        "Return the index of the last character in a string. If the string is empty, return -1.\n",
        "\n"
      ],
      "metadata": {
        "id": "PUD3Ahcsqbeu"
      }
    },
    {
      "cell_type": "code",
      "source": [
        "#return the index of the last character in a string\n",
        "#if string is emtpty return -1\n"
      ],
      "metadata": {
        "id": "A_680cz5qfYb"
      },
      "execution_count": 31,
      "outputs": []
    },
    {
      "cell_type": "code",
      "source": [
        "def solution(s):\n",
        "  count = -1\n",
        "  for letter in s:\n",
        "    if s == '':\n",
        "      return -1\n",
        "    else:\n",
        "      count = count + 1\n",
        "  return count"
      ],
      "metadata": {
        "id": "wr-VA8sKqyp8"
      },
      "execution_count": 42,
      "outputs": []
    },
    {
      "cell_type": "code",
      "source": [
        "def last_char_index(s):\n",
        "    if s == \"\":\n",
        "        return -1\n",
        "    else:\n",
        "        return len(s) - 1"
      ],
      "metadata": {
        "id": "09CFk-iorw5Z"
      },
      "execution_count": 40,
      "outputs": []
    },
    {
      "cell_type": "code",
      "source": [
        "solution('jhsdafglkafhlsdk')"
      ],
      "metadata": {
        "colab": {
          "base_uri": "https://localhost:8080/"
        },
        "id": "o0jrcSeirK5w",
        "outputId": "5de25805-5f60-49ab-e278-ead59d5dfa5c"
      },
      "execution_count": 43,
      "outputs": [
        {
          "output_type": "execute_result",
          "data": {
            "text/plain": [
              "15"
            ]
          },
          "metadata": {},
          "execution_count": 43
        }
      ]
    },
    {
      "cell_type": "code",
      "source": [
        "#========================================================================================================================="
      ],
      "metadata": {
        "id": "-5uJv5rqrl4D"
      },
      "execution_count": null,
      "outputs": []
    },
    {
      "cell_type": "markdown",
      "source": [
        "Return the last character in a string. If the string is empty, return \"none\"."
      ],
      "metadata": {
        "id": "6jngon1CthTm"
      }
    },
    {
      "cell_type": "code",
      "source": [
        "#return the last character of a string\n",
        "#if the sting is empty return none\n",
        "def solution(s):\n",
        "  if s == '':\n",
        "    return 'none'\n",
        "  else:\n",
        "    return s[-1]"
      ],
      "metadata": {
        "id": "SvCg9GU1tjyl"
      },
      "execution_count": 44,
      "outputs": []
    },
    {
      "cell_type": "code",
      "source": [
        "solution('charlie')"
      ],
      "metadata": {
        "colab": {
          "base_uri": "https://localhost:8080/",
          "height": 35
        },
        "id": "amPwB8Q58G-0",
        "outputId": "a68ca00e-426d-4613-9953-9169227db13a"
      },
      "execution_count": 45,
      "outputs": [
        {
          "output_type": "execute_result",
          "data": {
            "text/plain": [
              "'e'"
            ],
            "application/vnd.google.colaboratory.intrinsic+json": {
              "type": "string"
            }
          },
          "metadata": {},
          "execution_count": 45
        }
      ]
    },
    {
      "cell_type": "code",
      "source": [
        "#========================================================================================================================="
      ],
      "metadata": {
        "id": "-mGWUvks8PTs"
      },
      "execution_count": null,
      "outputs": []
    },
    {
      "cell_type": "markdown",
      "source": [
        "Return true if the first and second characters in the string are equal."
      ],
      "metadata": {
        "id": "A5m01U3Y8cRV"
      }
    },
    {
      "cell_type": "code",
      "source": [
        "#answer with true or false \n",
        "#for the condition: if the 1st and 2nd index of the string are the same"
      ],
      "metadata": {
        "id": "V2lcR0N78e29"
      },
      "execution_count": 46,
      "outputs": []
    },
    {
      "cell_type": "code",
      "source": [
        "def solution(s):\n",
        "  return s[0] == s[1]"
      ],
      "metadata": {
        "id": "lUAabzDS8utX"
      },
      "execution_count": 47,
      "outputs": []
    },
    {
      "cell_type": "code",
      "source": [
        "solution('ssliusdq')"
      ],
      "metadata": {
        "colab": {
          "base_uri": "https://localhost:8080/"
        },
        "id": "2xYdNoHp81t3",
        "outputId": "7d8cd37c-2bed-4535-adb0-2cef04a21791"
      },
      "execution_count": 48,
      "outputs": [
        {
          "output_type": "execute_result",
          "data": {
            "text/plain": [
              "True"
            ]
          },
          "metadata": {},
          "execution_count": 48
        }
      ]
    },
    {
      "cell_type": "code",
      "source": [
        "solution('sfliusdq')"
      ],
      "metadata": {
        "colab": {
          "base_uri": "https://localhost:8080/"
        },
        "id": "Wv_mJl8q846z",
        "outputId": "2c37de0b-376c-4abd-f47e-06f26741a2c4"
      },
      "execution_count": 49,
      "outputs": [
        {
          "output_type": "execute_result",
          "data": {
            "text/plain": [
              "False"
            ]
          },
          "metadata": {},
          "execution_count": 49
        }
      ]
    },
    {
      "cell_type": "code",
      "source": [
        "#========================================================================================================================="
      ],
      "metadata": {
        "id": "pHVx-Fyu87FN"
      },
      "execution_count": null,
      "outputs": []
    },
    {
      "cell_type": "markdown",
      "source": [
        "Return true if the first and last characters in the string are equal.\n",
        "\n"
      ],
      "metadata": {
        "id": "zQhDyLZO8-29"
      }
    },
    {
      "cell_type": "code",
      "source": [
        "#true of false answer\n",
        "#condition: the 1st and last index of a string are equal"
      ],
      "metadata": {
        "id": "qOhQRPy89JMP"
      },
      "execution_count": 50,
      "outputs": []
    },
    {
      "cell_type": "code",
      "source": [
        "def solution(s):\n",
        "  return s[0] == s[-1]"
      ],
      "metadata": {
        "id": "jDgLO_MV9Tkc"
      },
      "execution_count": 51,
      "outputs": []
    },
    {
      "cell_type": "code",
      "source": [
        "solution('bob')"
      ],
      "metadata": {
        "colab": {
          "base_uri": "https://localhost:8080/"
        },
        "id": "97cPG5sp9ZGz",
        "outputId": "52e196e3-419b-4ca4-9940-b4ac9e8d9bb9"
      },
      "execution_count": 52,
      "outputs": [
        {
          "output_type": "execute_result",
          "data": {
            "text/plain": [
              "True"
            ]
          },
          "metadata": {},
          "execution_count": 52
        }
      ]
    },
    {
      "cell_type": "code",
      "source": [
        "solution('sdkalhb')"
      ],
      "metadata": {
        "colab": {
          "base_uri": "https://localhost:8080/"
        },
        "id": "dTca65J79b9J",
        "outputId": "6102f308-b979-42a1-d8a8-4bb1be81db0d"
      },
      "execution_count": 53,
      "outputs": [
        {
          "output_type": "execute_result",
          "data": {
            "text/plain": [
              "False"
            ]
          },
          "metadata": {},
          "execution_count": 53
        }
      ]
    },
    {
      "cell_type": "code",
      "source": [
        "solution('kchlaecbielk')"
      ],
      "metadata": {
        "colab": {
          "base_uri": "https://localhost:8080/"
        },
        "id": "AkTyLizo9d7Q",
        "outputId": "24974313-0d34-4986-ec6f-657edf82f4b5"
      },
      "execution_count": 54,
      "outputs": [
        {
          "output_type": "execute_result",
          "data": {
            "text/plain": [
              "True"
            ]
          },
          "metadata": {},
          "execution_count": 54
        }
      ]
    },
    {
      "cell_type": "code",
      "source": [
        "#========================================================================================================================="
      ],
      "metadata": {
        "id": "G0FNnCgF9iuT"
      },
      "execution_count": null,
      "outputs": []
    },
    {
      "cell_type": "markdown",
      "source": [
        "Return true if the last two characters in the string are equal.\n",
        "\n"
      ],
      "metadata": {
        "id": "Xeug5_9y9s7z"
      }
    },
    {
      "cell_type": "code",
      "source": [
        "#true of false answer\n",
        "#condition last two indices of string are equal\n"
      ],
      "metadata": {
        "id": "72EJ-HT09vry"
      },
      "execution_count": 55,
      "outputs": []
    },
    {
      "cell_type": "code",
      "source": [
        "def solution(s):\n",
        "  return s[-1] == s[-2]"
      ],
      "metadata": {
        "id": "9VtaIIse96bQ"
      },
      "execution_count": 56,
      "outputs": []
    },
    {
      "cell_type": "code",
      "source": [
        "solution('ljakhsdflakll')"
      ],
      "metadata": {
        "colab": {
          "base_uri": "https://localhost:8080/"
        },
        "id": "apbHwyAd9_m6",
        "outputId": "7767c611-737c-48fc-f804-1b6304109607"
      },
      "execution_count": 57,
      "outputs": [
        {
          "output_type": "execute_result",
          "data": {
            "text/plain": [
              "True"
            ]
          },
          "metadata": {},
          "execution_count": 57
        }
      ]
    },
    {
      "cell_type": "code",
      "source": [
        "solution(\"lciqewgrlceb\")"
      ],
      "metadata": {
        "colab": {
          "base_uri": "https://localhost:8080/"
        },
        "id": "8PIL5krh-Com",
        "outputId": "d9456a08-c087-4b84-f19f-0877a8a3b4de"
      },
      "execution_count": 58,
      "outputs": [
        {
          "output_type": "execute_result",
          "data": {
            "text/plain": [
              "False"
            ]
          },
          "metadata": {},
          "execution_count": 58
        }
      ]
    },
    {
      "cell_type": "code",
      "source": [
        "solution(\"liaucgefdbsiacyy\")"
      ],
      "metadata": {
        "colab": {
          "base_uri": "https://localhost:8080/"
        },
        "id": "rJD0Vj7n-CK9",
        "outputId": "ccb0920a-28c6-4b36-d099-5232eec69b0b"
      },
      "execution_count": 59,
      "outputs": [
        {
          "output_type": "execute_result",
          "data": {
            "text/plain": [
              "True"
            ]
          },
          "metadata": {},
          "execution_count": 59
        }
      ]
    },
    {
      "cell_type": "code",
      "source": [
        "#========================================================================================================================="
      ],
      "metadata": {
        "id": "IZkFHswS-Iuw"
      },
      "execution_count": null,
      "outputs": []
    },
    {
      "cell_type": "markdown",
      "source": [
        "Return a lowercase version of the input string.\n",
        "\n",
        "Characters that are already lower case remain lowercase.\n",
        "\n",
        "Characters that aren't letters are unchanged."
      ],
      "metadata": {
        "id": "57ntVzJ9-LZq"
      }
    },
    {
      "cell_type": "code",
      "source": [],
      "metadata": {
        "id": "SJWSG2lY-dIt"
      },
      "execution_count": null,
      "outputs": []
    }
  ]
}